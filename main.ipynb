{
  "nbformat": 4,
  "nbformat_minor": 0,
  "metadata": {
    "colab": {
      "provenance": [],
      "collapsed_sections": [
        "jQ8Q_T3em0gB",
        "PfhI7X9SLMaV",
        "NWBGRYreUujj",
        "Scgrd-0IU5XO",
        "JowF-QQtVBeS",
        "jgnDkkjg9skX",
        "9A_0fs8ui_Q3",
        "b7TMci1Kkup5",
        "bq5oN6GaQuXA"
      ]
    },
    "kernelspec": {
      "name": "python3",
      "display_name": "Python 3"
    },
    "language_info": {
      "name": "python"
    }
  },
  "cells": [
    {
      "cell_type": "code",
      "execution_count": null,
      "metadata": {
        "id": "XDv9F9m0iCHO"
      },
      "outputs": [],
      "source": [
        "!cp '/content/drive/MyDrive/Colab Notebooks/DSLFinalProject/data.zip' /content"
      ]
    },
    {
      "cell_type": "code",
      "source": [
        "!unzip data.zip"
      ],
      "metadata": {
        "id": "gw3OmO5ClWyE"
      },
      "execution_count": null,
      "outputs": []
    },
    {
      "cell_type": "code",
      "source": [
        "import pandas as pd\n",
        "import numpy as np\n",
        "import librosa\n",
        "from sklearn.model_selection import train_test_split, GridSearchCV\n",
        "from sklearn.preprocessing import StandardScaler\n",
        "from sklearn.decomposition import PCA\n",
        "from sklearn.svm import SVC\n",
        "from sklearn.metrics import accuracy_score\n",
        "import matplotlib.pyplot as plt\n",
        "import seaborn as sns"
      ],
      "metadata": {
        "id": "sG-5qD5ylZYS"
      },
      "execution_count": null,
      "outputs": []
    },
    {
      "cell_type": "markdown",
      "source": [
        "# Loading Development Dataset"
      ],
      "metadata": {
        "id": "jQ8Q_T3em0gB"
      }
    },
    {
      "cell_type": "code",
      "source": [
        "df_dev = pd.read_csv('development.csv', index_col=0)"
      ],
      "metadata": {
        "id": "eS-w7WFymfoX"
      },
      "execution_count": null,
      "outputs": []
    },
    {
      "cell_type": "code",
      "source": [
        "df_dev.head()"
      ],
      "metadata": {
        "colab": {
          "base_uri": "https://localhost:8080/",
          "height": 385
        },
        "id": "WISa8xhKODNJ",
        "outputId": "6c806ac4-8517-4276-ab79-990814ae309c"
      },
      "execution_count": null,
      "outputs": [
        {
          "output_type": "execute_result",
          "data": {
            "text/plain": [
              "                                                 path         speakerId  \\\n",
              "Id                                                                        \n",
              "0   dsl_data/audio/speakers/2BqVo8kVB2Skwgyb/0a312...  2BqVo8kVB2Skwgyb   \n",
              "1   dsl_data/audio/speakers/2BqVo8kVB2Skwgyb/0ee42...  2BqVo8kVB2Skwgyb   \n",
              "2   dsl_data/audio/speakers/2BqVo8kVB2Skwgyb/1d9f3...  2BqVo8kVB2Skwgyb   \n",
              "3   dsl_data/audio/speakers/2BqVo8kVB2Skwgyb/269fc...  2BqVo8kVB2Skwgyb   \n",
              "4   dsl_data/audio/speakers/2BqVo8kVB2Skwgyb/5bbda...  2BqVo8kVB2Skwgyb   \n",
              "\n",
              "             action  object Self-reported fluency level   \\\n",
              "Id                                                         \n",
              "0   change language    none                     advanced   \n",
              "1          activate   music                     advanced   \n",
              "2        deactivate  lights                     advanced   \n",
              "3          increase  volume                     advanced   \n",
              "4          increase  volume                     advanced   \n",
              "\n",
              "      First Language spoken Current language used for work/school  gender  \\\n",
              "Id                                                                          \n",
              "0   English (United States)               English (United States)  female   \n",
              "1   English (United States)               English (United States)  female   \n",
              "2   English (United States)               English (United States)  female   \n",
              "3   English (United States)               English (United States)  female   \n",
              "4   English (United States)               English (United States)  female   \n",
              "\n",
              "   ageRange  \n",
              "Id           \n",
              "0     22-40  \n",
              "1     22-40  \n",
              "2     22-40  \n",
              "3     22-40  \n",
              "4     22-40  "
            ],
            "text/html": [
              "\n",
              "  <div id=\"df-eafd4561-aa3a-44df-aff2-738cf11bfb4a\">\n",
              "    <div class=\"colab-df-container\">\n",
              "      <div>\n",
              "<style scoped>\n",
              "    .dataframe tbody tr th:only-of-type {\n",
              "        vertical-align: middle;\n",
              "    }\n",
              "\n",
              "    .dataframe tbody tr th {\n",
              "        vertical-align: top;\n",
              "    }\n",
              "\n",
              "    .dataframe thead th {\n",
              "        text-align: right;\n",
              "    }\n",
              "</style>\n",
              "<table border=\"1\" class=\"dataframe\">\n",
              "  <thead>\n",
              "    <tr style=\"text-align: right;\">\n",
              "      <th></th>\n",
              "      <th>path</th>\n",
              "      <th>speakerId</th>\n",
              "      <th>action</th>\n",
              "      <th>object</th>\n",
              "      <th>Self-reported fluency level</th>\n",
              "      <th>First Language spoken</th>\n",
              "      <th>Current language used for work/school</th>\n",
              "      <th>gender</th>\n",
              "      <th>ageRange</th>\n",
              "    </tr>\n",
              "    <tr>\n",
              "      <th>Id</th>\n",
              "      <th></th>\n",
              "      <th></th>\n",
              "      <th></th>\n",
              "      <th></th>\n",
              "      <th></th>\n",
              "      <th></th>\n",
              "      <th></th>\n",
              "      <th></th>\n",
              "      <th></th>\n",
              "    </tr>\n",
              "  </thead>\n",
              "  <tbody>\n",
              "    <tr>\n",
              "      <th>0</th>\n",
              "      <td>dsl_data/audio/speakers/2BqVo8kVB2Skwgyb/0a312...</td>\n",
              "      <td>2BqVo8kVB2Skwgyb</td>\n",
              "      <td>change language</td>\n",
              "      <td>none</td>\n",
              "      <td>advanced</td>\n",
              "      <td>English (United States)</td>\n",
              "      <td>English (United States)</td>\n",
              "      <td>female</td>\n",
              "      <td>22-40</td>\n",
              "    </tr>\n",
              "    <tr>\n",
              "      <th>1</th>\n",
              "      <td>dsl_data/audio/speakers/2BqVo8kVB2Skwgyb/0ee42...</td>\n",
              "      <td>2BqVo8kVB2Skwgyb</td>\n",
              "      <td>activate</td>\n",
              "      <td>music</td>\n",
              "      <td>advanced</td>\n",
              "      <td>English (United States)</td>\n",
              "      <td>English (United States)</td>\n",
              "      <td>female</td>\n",
              "      <td>22-40</td>\n",
              "    </tr>\n",
              "    <tr>\n",
              "      <th>2</th>\n",
              "      <td>dsl_data/audio/speakers/2BqVo8kVB2Skwgyb/1d9f3...</td>\n",
              "      <td>2BqVo8kVB2Skwgyb</td>\n",
              "      <td>deactivate</td>\n",
              "      <td>lights</td>\n",
              "      <td>advanced</td>\n",
              "      <td>English (United States)</td>\n",
              "      <td>English (United States)</td>\n",
              "      <td>female</td>\n",
              "      <td>22-40</td>\n",
              "    </tr>\n",
              "    <tr>\n",
              "      <th>3</th>\n",
              "      <td>dsl_data/audio/speakers/2BqVo8kVB2Skwgyb/269fc...</td>\n",
              "      <td>2BqVo8kVB2Skwgyb</td>\n",
              "      <td>increase</td>\n",
              "      <td>volume</td>\n",
              "      <td>advanced</td>\n",
              "      <td>English (United States)</td>\n",
              "      <td>English (United States)</td>\n",
              "      <td>female</td>\n",
              "      <td>22-40</td>\n",
              "    </tr>\n",
              "    <tr>\n",
              "      <th>4</th>\n",
              "      <td>dsl_data/audio/speakers/2BqVo8kVB2Skwgyb/5bbda...</td>\n",
              "      <td>2BqVo8kVB2Skwgyb</td>\n",
              "      <td>increase</td>\n",
              "      <td>volume</td>\n",
              "      <td>advanced</td>\n",
              "      <td>English (United States)</td>\n",
              "      <td>English (United States)</td>\n",
              "      <td>female</td>\n",
              "      <td>22-40</td>\n",
              "    </tr>\n",
              "  </tbody>\n",
              "</table>\n",
              "</div>\n",
              "      <button class=\"colab-df-convert\" onclick=\"convertToInteractive('df-eafd4561-aa3a-44df-aff2-738cf11bfb4a')\"\n",
              "              title=\"Convert this dataframe to an interactive table.\"\n",
              "              style=\"display:none;\">\n",
              "        \n",
              "  <svg xmlns=\"http://www.w3.org/2000/svg\" height=\"24px\"viewBox=\"0 0 24 24\"\n",
              "       width=\"24px\">\n",
              "    <path d=\"M0 0h24v24H0V0z\" fill=\"none\"/>\n",
              "    <path d=\"M18.56 5.44l.94 2.06.94-2.06 2.06-.94-2.06-.94-.94-2.06-.94 2.06-2.06.94zm-11 1L8.5 8.5l.94-2.06 2.06-.94-2.06-.94L8.5 2.5l-.94 2.06-2.06.94zm10 10l.94 2.06.94-2.06 2.06-.94-2.06-.94-.94-2.06-.94 2.06-2.06.94z\"/><path d=\"M17.41 7.96l-1.37-1.37c-.4-.4-.92-.59-1.43-.59-.52 0-1.04.2-1.43.59L10.3 9.45l-7.72 7.72c-.78.78-.78 2.05 0 2.83L4 21.41c.39.39.9.59 1.41.59.51 0 1.02-.2 1.41-.59l7.78-7.78 2.81-2.81c.8-.78.8-2.07 0-2.86zM5.41 20L4 18.59l7.72-7.72 1.47 1.35L5.41 20z\"/>\n",
              "  </svg>\n",
              "      </button>\n",
              "      \n",
              "  <style>\n",
              "    .colab-df-container {\n",
              "      display:flex;\n",
              "      flex-wrap:wrap;\n",
              "      gap: 12px;\n",
              "    }\n",
              "\n",
              "    .colab-df-convert {\n",
              "      background-color: #E8F0FE;\n",
              "      border: none;\n",
              "      border-radius: 50%;\n",
              "      cursor: pointer;\n",
              "      display: none;\n",
              "      fill: #1967D2;\n",
              "      height: 32px;\n",
              "      padding: 0 0 0 0;\n",
              "      width: 32px;\n",
              "    }\n",
              "\n",
              "    .colab-df-convert:hover {\n",
              "      background-color: #E2EBFA;\n",
              "      box-shadow: 0px 1px 2px rgba(60, 64, 67, 0.3), 0px 1px 3px 1px rgba(60, 64, 67, 0.15);\n",
              "      fill: #174EA6;\n",
              "    }\n",
              "\n",
              "    [theme=dark] .colab-df-convert {\n",
              "      background-color: #3B4455;\n",
              "      fill: #D2E3FC;\n",
              "    }\n",
              "\n",
              "    [theme=dark] .colab-df-convert:hover {\n",
              "      background-color: #434B5C;\n",
              "      box-shadow: 0px 1px 3px 1px rgba(0, 0, 0, 0.15);\n",
              "      filter: drop-shadow(0px 1px 2px rgba(0, 0, 0, 0.3));\n",
              "      fill: #FFFFFF;\n",
              "    }\n",
              "  </style>\n",
              "\n",
              "      <script>\n",
              "        const buttonEl =\n",
              "          document.querySelector('#df-eafd4561-aa3a-44df-aff2-738cf11bfb4a button.colab-df-convert');\n",
              "        buttonEl.style.display =\n",
              "          google.colab.kernel.accessAllowed ? 'block' : 'none';\n",
              "\n",
              "        async function convertToInteractive(key) {\n",
              "          const element = document.querySelector('#df-eafd4561-aa3a-44df-aff2-738cf11bfb4a');\n",
              "          const dataTable =\n",
              "            await google.colab.kernel.invokeFunction('convertToInteractive',\n",
              "                                                     [key], {});\n",
              "          if (!dataTable) return;\n",
              "\n",
              "          const docLinkHtml = 'Like what you see? Visit the ' +\n",
              "            '<a target=\"_blank\" href=https://colab.research.google.com/notebooks/data_table.ipynb>data table notebook</a>'\n",
              "            + ' to learn more about interactive tables.';\n",
              "          element.innerHTML = '';\n",
              "          dataTable['output_type'] = 'display_data';\n",
              "          await google.colab.output.renderOutput(dataTable, element);\n",
              "          const docLink = document.createElement('div');\n",
              "          docLink.innerHTML = docLinkHtml;\n",
              "          element.appendChild(docLink);\n",
              "        }\n",
              "      </script>\n",
              "    </div>\n",
              "  </div>\n",
              "  "
            ]
          },
          "metadata": {},
          "execution_count": 5
        }
      ]
    },
    {
      "cell_type": "markdown",
      "source": [
        "# Preprocess"
      ],
      "metadata": {
        "id": "5TkVRksOnHJH"
      }
    },
    {
      "cell_type": "markdown",
      "source": [
        "## Delete some columns"
      ],
      "metadata": {
        "id": "PfhI7X9SLMaV"
      }
    },
    {
      "cell_type": "code",
      "source": [
        "df_dev['class'] = df_dev['action'] + ' ' + df_dev['object']"
      ],
      "metadata": {
        "id": "CZsCe_xlL-bh"
      },
      "execution_count": null,
      "outputs": []
    },
    {
      "cell_type": "code",
      "source": [
        "df_dev.drop(['action', 'object'], axis=1, inplace=True)"
      ],
      "metadata": {
        "id": "CxmBs0HsJSNw"
      },
      "execution_count": null,
      "outputs": []
    },
    {
      "cell_type": "code",
      "source": [
        "df_dev['speakerId'].nunique()"
      ],
      "metadata": {
        "colab": {
          "base_uri": "https://localhost:8080/"
        },
        "id": "yYg8l5gcJWXF",
        "outputId": "be4e7b9b-d210-42a0-9be9-ec86619e4112"
      },
      "execution_count": null,
      "outputs": [
        {
          "output_type": "execute_result",
          "data": {
            "text/plain": [
              "87"
            ]
          },
          "metadata": {},
          "execution_count": 8
        }
      ]
    },
    {
      "cell_type": "markdown",
      "source": [
        "<p1> Because of high cardinality, it is dropped"
      ],
      "metadata": {
        "id": "ISe6IFYRJ9Y4"
      }
    },
    {
      "cell_type": "code",
      "source": [
        "df_dev.drop('speakerId', axis=1, inplace=True)"
      ],
      "metadata": {
        "id": "CWGTXn25J1Pz"
      },
      "execution_count": null,
      "outputs": []
    },
    {
      "cell_type": "code",
      "source": [
        "df_dev['Self-reported fluency level '].value_counts() / df_dev['Self-reported fluency level '].value_counts().sum()"
      ],
      "metadata": {
        "colab": {
          "base_uri": "https://localhost:8080/"
        },
        "id": "pZdZnbGPKNCm",
        "outputId": "a3161aeb-3d2b-44ed-cc24-844806bcb3c0"
      },
      "execution_count": null,
      "outputs": [
        {
          "output_type": "execute_result",
          "data": {
            "text/plain": [
              "native          0.958393\n",
              "advanced        0.035113\n",
              "basic           0.005683\n",
              "intermediate    0.000812\n",
              "Name: Self-reported fluency level , dtype: float64"
            ]
          },
          "metadata": {},
          "execution_count": 16
        }
      ]
    },
    {
      "cell_type": "code",
      "source": [
        "df_dev['First Language spoken'].value_counts() / df_dev['First Language spoken'].value_counts().sum()"
      ],
      "metadata": {
        "colab": {
          "base_uri": "https://localhost:8080/"
        },
        "id": "Ktowj6guKjgx",
        "outputId": "557229b4-048a-4379-f6e8-65b5ef0ce22d"
      },
      "execution_count": null,
      "outputs": [
        {
          "output_type": "execute_result",
          "data": {
            "text/plain": [
              "English (United States)    0.978486\n",
              "French (Canada)            0.015019\n",
              "Spanish (Venezuela)        0.003552\n",
              "Telugu                     0.002131\n",
              "English (Canada)           0.000812\n",
              "Name: First Language spoken, dtype: float64"
            ]
          },
          "metadata": {},
          "execution_count": 17
        }
      ]
    },
    {
      "cell_type": "code",
      "source": [
        "df_dev['Current language used for work/school'].value_counts() / df_dev['Current language used for work/school'].value_counts().sum()"
      ],
      "metadata": {
        "colab": {
          "base_uri": "https://localhost:8080/"
        },
        "id": "2W-KMk7YKsrV",
        "outputId": "a40d4b27-086d-4642-a642-1aab2cef0a16"
      },
      "execution_count": null,
      "outputs": [
        {
          "output_type": "execute_result",
          "data": {
            "text/plain": [
              "English (United States)    0.974021\n",
              "English (Canada)           0.015831\n",
              "English (Australia)        0.006596\n",
              "Spanish (Venezuela)        0.003552\n",
              "Name: Current language used for work/school, dtype: float64"
            ]
          },
          "metadata": {},
          "execution_count": 18
        }
      ]
    },
    {
      "cell_type": "markdown",
      "source": [
        "<p1> Three above columns have dominant values, so they are dropped </p1>"
      ],
      "metadata": {
        "id": "LGOL4a5gK8sX"
      }
    },
    {
      "cell_type": "code",
      "source": [
        "df_dev.drop(['Self-reported fluency level ', 'First Language spoken',\n",
        "               'Current language used for work/school'], axis=1, inplace=True)"
      ],
      "metadata": {
        "id": "kWlFl5aziZ3H"
      },
      "execution_count": null,
      "outputs": []
    },
    {
      "cell_type": "code",
      "source": [
        "sns.countplot(data=df_dev, x=\"gender\", hue=\"class\")"
      ],
      "metadata": {
        "colab": {
          "base_uri": "https://localhost:8080/",
          "height": 466
        },
        "id": "aQ0FHtXcLgiQ",
        "outputId": "ed58eba6-9ad7-4884-f2c9-a8e5cf10728f"
      },
      "execution_count": null,
      "outputs": [
        {
          "output_type": "execute_result",
          "data": {
            "text/plain": [
              "<Axes: xlabel='gender', ylabel='count'>"
            ]
          },
          "metadata": {},
          "execution_count": 23
        },
        {
          "output_type": "display_data",
          "data": {
            "text/plain": [
              "<Figure size 640x480 with 1 Axes>"
            ],
            "image/png": "[encoded data removed]"
          },
          "metadata": {}
        }
      ]
    },
    {
      "cell_type": "code",
      "source": [
        "sns.countplot(data=df_dev, x=\"ageRange\", hue=\"class\")"
      ],
      "metadata": {
        "colab": {
          "base_uri": "https://localhost:8080/",
          "height": 466
        },
        "id": "AuPbfKkBM1sH",
        "outputId": "6dbdaa0d-ea7b-4f9a-aaaf-7c96a4f369c0"
      },
      "execution_count": null,
      "outputs": [
        {
          "output_type": "execute_result",
          "data": {
            "text/plain": [
              "<Axes: xlabel='ageRange', ylabel='count'>"
            ]
          },
          "metadata": {},
          "execution_count": 25
        },
        {
          "output_type": "display_data",
          "data": {
            "text/plain": [
              "<Figure size 640x480 with 1 Axes>"
            ],
            "image/png": "[encoded data removed]"
          },
          "metadata": {}
        }
      ]
    },
    {
      "cell_type": "markdown",
      "source": [
        "<p1> In gender and ageRange columns, values follow the same pattern in different classes, so knowing their values cannot help the model predict the class </p1>"
      ],
      "metadata": {
        "id": "qP8UhBOuNCKO"
      }
    },
    {
      "cell_type": "code",
      "source": [
        "df_dev.drop(['gender', 'ageRange'], axis=1, inplace=True)"
      ],
      "metadata": {
        "id": "83zuEARDNTY_"
      },
      "execution_count": null,
      "outputs": []
    },
    {
      "cell_type": "markdown",
      "source": [
        "## Some statistics"
      ],
      "metadata": {
        "id": "U7_39ducLaK_"
      }
    },
    {
      "cell_type": "code",
      "source": [
        "def load_audio_file(path):\n",
        "\n",
        "    y, sr = librosa.load(path)\n",
        "    y, _ = librosa.effects.trim(y=y, top_db=10, hop_length=10)\n",
        "    duration = librosa.get_duration(y=y, sr=sr)\n",
        "        \n",
        "    return y, sr, duration"
      ],
      "metadata": {
        "id": "g1PmCF2kmuU3"
      },
      "execution_count": null,
      "outputs": []
    },
    {
      "cell_type": "code",
      "source": [
        "df_dev[['info', 'sr', 'duration']] = df_dev.apply(lambda r: load_audio_file(r['path']), axis=1, result_type='expand')"
      ],
      "metadata": {
        "id": "KY0lsLXDN8nc"
      },
      "execution_count": null,
      "outputs": []
    },
    {
      "cell_type": "code",
      "source": [
        "df_dev.drop('path', axis=1, inplace=True)"
      ],
      "metadata": {
        "id": "4BXG_Up9qZVv"
      },
      "execution_count": null,
      "outputs": []
    },
    {
      "cell_type": "code",
      "source": [
        "df_dev['sr'].unique()"
      ],
      "metadata": {
        "colab": {
          "base_uri": "https://localhost:8080/"
        },
        "id": "J8rYexGGrUmL",
        "outputId": "fc359d52-a49d-497c-d71c-974bb4ad9b29"
      },
      "execution_count": null,
      "outputs": [
        {
          "output_type": "execute_result",
          "data": {
            "text/plain": [
              "array([22050])"
            ]
          },
          "metadata": {},
          "execution_count": 15
        }
      ]
    },
    {
      "cell_type": "code",
      "source": [
        "df_dev.drop('sr', axis=1, inplace=True)"
      ],
      "metadata": {
        "id": "Nr3XXDMgrX8I"
      },
      "execution_count": null,
      "outputs": []
    },
    {
      "cell_type": "code",
      "source": [
        "def map_duration(duration):\n",
        "    \n",
        "  if 0 <= duration < 1:\n",
        "      return '0-1'\n",
        "  elif 1 <= duration < 2:\n",
        "      return '1-2'\n",
        "  elif 2 <= duration < 3:\n",
        "      return '2-3'\n",
        "  elif 3 <= duration < 4:\n",
        "      return '3-4'\n",
        "  elif 4 <= duration < 5:\n",
        "      return '4-5'\n",
        "  else:\n",
        "      return '>=5'"
      ],
      "metadata": {
        "id": "MLEepkcdlYfs"
      },
      "execution_count": null,
      "outputs": []
    },
    {
      "cell_type": "code",
      "source": [
        "df_dev['duration_interval'] = df_dev.apply(lambda r: map_duration(r['duration']), axis=1)"
      ],
      "metadata": {
        "id": "_UCRto77lTEA"
      },
      "execution_count": null,
      "outputs": []
    },
    {
      "cell_type": "code",
      "source": [
        "df_dev['duration_interval'].value_counts()"
      ],
      "metadata": {
        "colab": {
          "base_uri": "https://localhost:8080/"
        },
        "id": "OvysOFkQlmi4",
        "outputId": "1abf3202-831b-401f-bb42-444b7ab2fb19"
      },
      "execution_count": null,
      "outputs": [
        {
          "output_type": "execute_result",
          "data": {
            "text/plain": [
              "0-1    7181\n",
              "1-2    2439\n",
              "2-3     207\n",
              "3-4      25\n",
              ">=5       2\n",
              "Name: duration_interval, dtype: int64"
            ]
          },
          "metadata": {},
          "execution_count": 19
        }
      ]
    },
    {
      "cell_type": "markdown",
      "source": [
        "<p1> Classes are unbalanced </p1>"
      ],
      "metadata": {
        "id": "aQrkQXqINr4X"
      }
    },
    {
      "cell_type": "code",
      "source": [
        "df_dev.drop('duration_interval', axis=1, inplace=True)"
      ],
      "metadata": {
        "id": "_jCuCezdlt5O"
      },
      "execution_count": null,
      "outputs": []
    },
    {
      "cell_type": "code",
      "source": [
        "print('Mean of duration -> ', df_dev['duration'].mean())\n",
        "print('Standard Deviation of duration -> ', df_dev['duration'].std())\n",
        "print('Max of duration -> ', df_dev['duration'].max())\n",
        "print('Min of duration -> ', df_dev['duration'].min())"
      ],
      "metadata": {
        "colab": {
          "base_uri": "https://localhost:8080/"
        },
        "id": "wOOGHurQlqiR",
        "outputId": "e64bab01-58a3-4b2e-91a0-117ecb30ba0c"
      },
      "execution_count": null,
      "outputs": [
        {
          "output_type": "stream",
          "name": "stdout",
          "text": [
            "Mean of duration ->  0.8702567094086129\n",
            "Standard Deviation of duration ->  0.41265092476967624\n",
            "Max of duration ->  6.834920634920635\n",
            "Min of duration ->  0.10158730158730159\n"
          ]
        }
      ]
    },
    {
      "cell_type": "markdown",
      "source": [
        "## Remove Outliers"
      ],
      "metadata": {
        "id": "NWBGRYreUujj"
      }
    },
    {
      "cell_type": "code",
      "source": [
        "print(\"Old Shape of data frame: \", df_dev.shape)\n",
        "upper = np.where(df_dev['duration'] > 4) \n",
        "df_dev.drop(upper[0], inplace = True)\n",
        "print(\"New Shape of data frame: \", df_dev.shape)"
      ],
      "metadata": {
        "colab": {
          "base_uri": "https://localhost:8080/"
        },
        "id": "rhiUw99_l-sK",
        "outputId": "37d4db9b-fb10-4c03-9597-c563794a833d"
      },
      "execution_count": null,
      "outputs": [
        {
          "output_type": "stream",
          "name": "stdout",
          "text": [
            "Old Shape of data frame:  (9854, 3)\n",
            "New Shape of data frame:  (9852, 3)\n"
          ]
        }
      ]
    },
    {
      "cell_type": "code",
      "source": [
        "df_dev.drop('duration', axis=1, inplace=True)"
      ],
      "metadata": {
        "id": "JSmKqPuGlhGr"
      },
      "execution_count": null,
      "outputs": []
    },
    {
      "cell_type": "markdown",
      "source": [
        "## Add Padding"
      ],
      "metadata": {
        "id": "Scgrd-0IU5XO"
      }
    },
    {
      "cell_type": "code",
      "source": [
        "def add_padding(info, upper_bound, isTrainData):\n",
        "    \n",
        "  if isTrainData:\n",
        "\n",
        "    pad = np.zeros(upper_bound - len(info), dtype=np.float32)\n",
        "    info = np.concatenate([info, pad], 0)\n",
        "      \n",
        "  else:\n",
        "    \n",
        "    if len(info) > upper_bound: # crop the audio\n",
        "      info = info[:upper_bound]\n",
        "    else: # pad the audio\n",
        "      pad = np.zeros(upper_bound - len(info), dtype=np.float32)\n",
        "      info = np.concatenate([info, pad],0)\n",
        "    \n",
        "  return info"
      ],
      "metadata": {
        "id": "1S2Az-aGmQxH"
      },
      "execution_count": null,
      "outputs": []
    },
    {
      "cell_type": "code",
      "source": [
        "info_length = [ len(info) for info in df_dev['info'] ]\n",
        "max_length = max(info_length)"
      ],
      "metadata": {
        "id": "58VK1Cr9mkMR"
      },
      "execution_count": null,
      "outputs": []
    },
    {
      "cell_type": "code",
      "source": [
        "df_dev['info'] = df_dev.apply(lambda r: add_padding(r['info'], max_length, True), axis=1)"
      ],
      "metadata": {
        "id": "KRVCiBDYmWlD"
      },
      "execution_count": null,
      "outputs": []
    },
    {
      "cell_type": "markdown",
      "source": [
        "## Compute MFCC"
      ],
      "metadata": {
        "id": "JowF-QQtVBeS"
      }
    },
    {
      "cell_type": "code",
      "source": [
        "df_dev['mfcc'] = df_dev.apply(lambda r: librosa.feature.mfcc(y=r['info'], sr=22050), axis=1)"
      ],
      "metadata": {
        "id": "zEz3Ggydm0GG"
      },
      "execution_count": null,
      "outputs": []
    },
    {
      "cell_type": "code",
      "source": [
        "df_dev.drop('info', axis=1, inplace=True)"
      ],
      "metadata": {
        "id": "r6vwJ19VnuGI"
      },
      "execution_count": null,
      "outputs": []
    },
    {
      "cell_type": "code",
      "source": [
        "df_dev['mfcc'] = df_dev.apply(lambda r: r['mfcc'].flatten(), axis=1)"
      ],
      "metadata": {
        "id": "QobbfOd4n3Lf"
      },
      "execution_count": null,
      "outputs": []
    },
    {
      "cell_type": "code",
      "source": [
        "col_names = [f'mfcc{i}' for i in range(len(df_dev.iloc[0]['mfcc']))]\n",
        "df_new_features = pd.DataFrame(df_dev['mfcc'].tolist(), index=df_dev.index, columns=col_names)\n",
        "df_dev = pd.concat((df_dev, df_new_features), axis=1)"
      ],
      "metadata": {
        "id": "tKT7YMX-n-JT"
      },
      "execution_count": null,
      "outputs": []
    },
    {
      "cell_type": "code",
      "source": [
        "df_dev.drop('mfcc', axis=1, inplace=True)"
      ],
      "metadata": {
        "id": "kyMgZcwarwWY"
      },
      "execution_count": null,
      "outputs": []
    },
    {
      "cell_type": "markdown",
      "source": [
        "## Split Data"
      ],
      "metadata": {
        "id": "jgnDkkjg9skX"
      }
    },
    {
      "cell_type": "code",
      "source": [
        "y = df_dev['class']\n",
        "X = df_dev.drop(['class'], axis=1)"
      ],
      "metadata": {
        "id": "yPDtCBJ29xih"
      },
      "execution_count": null,
      "outputs": []
    },
    {
      "cell_type": "code",
      "source": [
        "X_train_val, X_test, y_train_val, y_test = train_test_split(\n",
        "    X, y, test_size=0.2, shuffle=True, stratify=y\n",
        "    )"
      ],
      "metadata": {
        "id": "1CvaHMlR-Bqt"
      },
      "execution_count": null,
      "outputs": []
    },
    {
      "cell_type": "code",
      "source": [
        "X_train, X_val, y_train, y_val = train_test_split(\n",
        "    X_train_val, y_train_val, test_size=0.2, shuffle=True, stratify=y_train_val\n",
        ")"
      ],
      "metadata": {
        "id": "7fJme07N-7Hw"
      },
      "execution_count": null,
      "outputs": []
    },
    {
      "cell_type": "code",
      "source": [
        "len(X_train), len(X_val), len(X_test)"
      ],
      "metadata": {
        "colab": {
          "base_uri": "https://localhost:8080/"
        },
        "id": "fT4zOQvp_Tmw",
        "outputId": "358c1980-8acd-4213-8998-bd33250bad77"
      },
      "execution_count": null,
      "outputs": [
        {
          "output_type": "execute_result",
          "data": {
            "text/plain": [
              "(6304, 1577, 1971)"
            ]
          },
          "metadata": {},
          "execution_count": 79
        }
      ]
    },
    {
      "cell_type": "markdown",
      "source": [
        "## Apply PCA"
      ],
      "metadata": {
        "id": "9A_0fs8ui_Q3"
      }
    },
    {
      "cell_type": "code",
      "source": [
        "standard_scaler = StandardScaler().fit(X_train)\n",
        "X_train_scaled = standard_scaler.transform(X_train)\n",
        "X_val_scaled = standard_scaler.transform(X_val)"
      ],
      "metadata": {
        "id": "VhSbRZiRW8WK"
      },
      "execution_count": null,
      "outputs": []
    },
    {
      "cell_type": "code",
      "source": [
        "# finding the best number of components for PCA\n",
        "\n",
        "possible_n = (3000, 2000, 1000, 500, 200, 100, 50)\n",
        "accuracy = []\n",
        "\n",
        "for n in possible_n:\n",
        "  pca_scaler = PCA(n_components=n).fit(X_train_scaled)\n",
        "  X_train_pca = pca_scaler.transform(X_train_scaled)\n",
        "  svc = SVC().fit(X_train_pca, y_train)\n",
        "\n",
        "  X_val_pca = pca_scaler.transform(X_val_scaled)\n",
        "  y_pred = svc.predict(X_val_pca)\n",
        "  accuracy.append(accuracy_score(y_val, y_pred))"
      ],
      "metadata": {
        "id": "4N7MHwHQi-RI"
      },
      "execution_count": null,
      "outputs": []
    },
    {
      "cell_type": "code",
      "source": [
        "ax = plt.subplot()\n",
        "ax.scatter(x=possible_n, y=accuracy)\n",
        "ax.plot(possible_n, accuracy)\n",
        "ax.set_xticks(possible_n)\n",
        "ax.invert_xaxis()\n",
        "ax.set_xlabel('Number of Components')\n",
        "plt.xticks(rotation = 90) \n",
        "ax.set_ylabel('Accuracy')\n",
        "plt.savefig('pca.pdf')"
      ],
      "metadata": {
        "colab": {
          "base_uri": "https://localhost:8080/",
          "height": 471
        },
        "id": "jjFm0Gf9ktLS",
        "outputId": "b2acd024-1b92-4a0d-ecb0-1fbdd5f153f7"
      },
      "execution_count": null,
      "outputs": [
        {
          "output_type": "display_data",
          "data": {
            "text/plain": [
              "<Figure size 640x480 with 1 Axes>"
            ],
            "image/png": "[encoded data removed]"
          },
          "metadata": {}
        }
      ]
    },
    {
      "cell_type": "markdown",
      "source": [
        "# Model Building: Grid Search for SVM's Hyperparameters"
      ],
      "metadata": {
        "id": "b7TMci1Kkup5"
      }
    },
    {
      "cell_type": "code",
      "source": [
        "standard_scaler = StandardScaler().fit(X_train_val)\n",
        "X_train_val_scaled = standard_scaler.transform(X_train_val)"
      ],
      "metadata": {
        "id": "9rZPD3wqw-k_"
      },
      "execution_count": null,
      "outputs": []
    },
    {
      "cell_type": "code",
      "source": [
        "pca_scaler = PCA(n_components=500).fit(X_train_val_scaled)\n",
        "X_train_val_pca = pca_scaler.transform(X_train_val_scaled)"
      ],
      "metadata": {
        "id": "bs6oU-ezDncw"
      },
      "execution_count": null,
      "outputs": []
    },
    {
      "cell_type": "code",
      "source": [
        "parameters = {\n",
        "    'kernel':('poly', 'rbf'),\n",
        "     'C':[1, 4, 10],\n",
        "     'degree':[1, 2, 3]\n",
        "     }\n",
        "\n",
        "svc = SVC()\n",
        "grid = GridSearchCV(estimator=svc, param_grid=parameters, scoring='accuracy', n_jobs=-1)\n",
        "grid = grid.fit(X_train_val_pca, y_train_val)"
      ],
      "metadata": {
        "id": "2ENBOad_4ZpS"
      },
      "execution_count": null,
      "outputs": []
    },
    {
      "cell_type": "code",
      "source": [
        "grid.best_params_"
      ],
      "metadata": {
        "colab": {
          "base_uri": "https://localhost:8080/"
        },
        "id": "XFhi4_xFznIF",
        "outputId": "22e7539f-1771-4875-e80a-1347ba650592"
      },
      "execution_count": null,
      "outputs": [
        {
          "output_type": "execute_result",
          "data": {
            "text/plain": [
              "{'C': 10, 'degree': 1, 'kernel': 'rbf'}"
            ]
          },
          "metadata": {},
          "execution_count": 87
        }
      ]
    },
    {
      "cell_type": "code",
      "source": [
        "parameters = {\n",
        "    'kernel': ['rbf',],\n",
        "     'C':[10, 20, 40, 80],\n",
        "     'degree': [1,]\n",
        "     }\n",
        "\n",
        "svc = SVC()\n",
        "grid = GridSearchCV(estimator=svc, param_grid=parameters, scoring='accuracy', n_jobs=-1)\n",
        "grid = grid.fit(X_train_val_pca, y_train_val)"
      ],
      "metadata": {
        "id": "0VK7fug-931T"
      },
      "execution_count": null,
      "outputs": []
    },
    {
      "cell_type": "code",
      "source": [
        "grid.best_params_"
      ],
      "metadata": {
        "colab": {
          "base_uri": "https://localhost:8080/"
        },
        "id": "vXsB25pB2evJ",
        "outputId": "26a22484-e675-4854-fe60-48d667208063"
      },
      "execution_count": null,
      "outputs": [
        {
          "output_type": "execute_result",
          "data": {
            "text/plain": [
              "{'C': 40, 'degree': 1, 'kernel': 'rbf'}"
            ]
          },
          "metadata": {},
          "execution_count": 90
        }
      ]
    },
    {
      "cell_type": "code",
      "source": [
        "parameters = {\n",
        "    'kernel': ['rbf',],\n",
        "     'C':[40, 50, 60, 70],\n",
        "     'degree': [1,]\n",
        "     }\n",
        "\n",
        "svc = SVC()\n",
        "grid = GridSearchCV(estimator=svc, param_grid=parameters, scoring='accuracy', n_jobs=-1)\n",
        "grid = grid.fit(X_train_val_pca, y_train_val)"
      ],
      "metadata": {
        "id": "49pc22DQN54x"
      },
      "execution_count": null,
      "outputs": []
    },
    {
      "cell_type": "code",
      "source": [
        "grid.best_params_"
      ],
      "metadata": {
        "colab": {
          "base_uri": "https://localhost:8080/"
        },
        "id": "7MMIRTjxOCD0",
        "outputId": "c2e60003-3699-4dbf-a92f-156ed5768053"
      },
      "execution_count": null,
      "outputs": [
        {
          "output_type": "execute_result",
          "data": {
            "text/plain": [
              "{'C': 40, 'degree': 1, 'kernel': 'rbf'}"
            ]
          },
          "metadata": {},
          "execution_count": 92
        }
      ]
    },
    {
      "cell_type": "markdown",
      "source": [
        "# Final Test"
      ],
      "metadata": {
        "id": "bq5oN6GaQuXA"
      }
    },
    {
      "cell_type": "code",
      "source": [
        "svc = SVC(kernel='rbf', C=40, gamma='scale', class_weight='balanced').fit(X_train_val_pca, y_train_val)"
      ],
      "metadata": {
        "id": "4u_Csh_5QwZm"
      },
      "execution_count": null,
      "outputs": []
    },
    {
      "cell_type": "code",
      "source": [
        "X_test_scaled = standard_scaler.transform(X_test)\n",
        "X_test_pca = pca_scaler.transform(X_test_scaled)"
      ],
      "metadata": {
        "id": "Gn7brR-TRiV9"
      },
      "execution_count": null,
      "outputs": []
    },
    {
      "cell_type": "code",
      "source": [
        "y_pred = svc.predict(X_test_pca)\n",
        "accuracy_score(y_test, y_pred)"
      ],
      "metadata": {
        "colab": {
          "base_uri": "https://localhost:8080/"
        },
        "id": "2qsu88e7R7qh",
        "outputId": "3bc5c697-1f07-4991-b715-fb1977ef597d"
      },
      "execution_count": null,
      "outputs": [
        {
          "output_type": "execute_result",
          "data": {
            "text/plain": [
              "0.7042110603754439"
            ]
          },
          "metadata": {},
          "execution_count": 95
        }
      ]
    }
  ]
}