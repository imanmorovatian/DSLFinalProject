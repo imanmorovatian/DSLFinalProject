{
 "cells": [
  {
   "cell_type": "code",
   "execution_count": 1,
   "id": "338b6c5d-dae8-47d8-b3c2-cbea864e11fe",
   "metadata": {},
   "outputs": [],
   "source": [
    "import pandas as pd\n",
    "import numpy as np\n",
    "import librosa\n",
    "from sklearn.model_selection import train_test_split\n",
    "from sklearn.preprocessing import StandardScaler\n",
    "from sklearn.decomposition import PCA\n",
    "from sklearn.ensemble import RandomForestClassifier\n",
    "from sklearn.svm import SVC\n",
    "from sklearn.metrics import accuracy_score"
   ]
  },
  {
   "cell_type": "code",
   "execution_count": 2,
   "id": "532ceb9e-b12c-44e8-9dd8-b57e8ed479f6",
   "metadata": {},
   "outputs": [],
   "source": [
    "df_dev = pd.read_csv('development.csv', index_col=0)"
   ]
  },
  {
   "cell_type": "code",
   "execution_count": 3,
   "id": "e1e839fd-3f04-4374-86a0-39611c0c345e",
   "metadata": {},
   "outputs": [],
   "source": [
    "def load_file(path):\n",
    "\n",
    "    y, sr = librosa.load(path)\n",
    "    y, _ = librosa.effects.trim(y=y, top_db=10, hop_length=10)\n",
    "    duration = librosa.get_duration(y=y, sr=sr)\n",
    "        \n",
    "    return y, sr, duration"
   ]
  },
  {
   "cell_type": "code",
   "execution_count": 4,
   "id": "24a2bc0b-b8b5-4bc9-849e-842ca03795c3",
   "metadata": {},
   "outputs": [],
   "source": [
    "df_dev = df_dev[['path', 'action', 'object']]"
   ]
  },
  {
   "cell_type": "code",
   "execution_count": 5,
   "id": "7c0aa61a-ff93-4bf3-88b4-8f6944cad90c",
   "metadata": {},
   "outputs": [],
   "source": [
    "df_dev[['info', 'sample_rate', 'duration']] = df_dev.apply(lambda r: load_file(r['path']), axis=1, result_type='expand')"
   ]
  },
  {
   "cell_type": "code",
   "execution_count": 6,
   "id": "30008fd1-0823-4444-a714-9310f7718e0d",
   "metadata": {},
   "outputs": [
    {
     "data": {
      "text/html": [
       "<div>\n",
       "<style scoped>\n",
       "    .dataframe tbody tr th:only-of-type {\n",
       "        vertical-align: middle;\n",
       "    }\n",
       "\n",
       "    .dataframe tbody tr th {\n",
       "        vertical-align: top;\n",
       "    }\n",
       "\n",
       "    .dataframe thead th {\n",
       "        text-align: right;\n",
       "    }\n",
       "</style>\n",
       "<table border=\"1\" class=\"dataframe\">\n",
       "  <thead>\n",
       "    <tr style=\"text-align: right;\">\n",
       "      <th></th>\n",
       "      <th>path</th>\n",
       "      <th>action</th>\n",
       "      <th>object</th>\n",
       "      <th>info</th>\n",
       "      <th>sample_rate</th>\n",
       "      <th>duration</th>\n",
       "    </tr>\n",
       "    <tr>\n",
       "      <th>Id</th>\n",
       "      <th></th>\n",
       "      <th></th>\n",
       "      <th></th>\n",
       "      <th></th>\n",
       "      <th></th>\n",
       "      <th></th>\n",
       "    </tr>\n",
       "  </thead>\n",
       "  <tbody>\n",
       "    <tr>\n",
       "      <th>0</th>\n",
       "      <td>dsl_data/audio/speakers/2BqVo8kVB2Skwgyb/0a312...</td>\n",
       "      <td>change language</td>\n",
       "      <td>none</td>\n",
       "      <td>[0.00911877, 0.016520254, -0.004310082, -0.015...</td>\n",
       "      <td>22050</td>\n",
       "      <td>0.968254</td>\n",
       "    </tr>\n",
       "    <tr>\n",
       "      <th>1</th>\n",
       "      <td>dsl_data/audio/speakers/2BqVo8kVB2Skwgyb/0ee42...</td>\n",
       "      <td>activate</td>\n",
       "      <td>music</td>\n",
       "      <td>[0.00027365616, 0.0010685086, 0.0017168283, 0....</td>\n",
       "      <td>22050</td>\n",
       "      <td>0.542404</td>\n",
       "    </tr>\n",
       "    <tr>\n",
       "      <th>2</th>\n",
       "      <td>dsl_data/audio/speakers/2BqVo8kVB2Skwgyb/1d9f3...</td>\n",
       "      <td>deactivate</td>\n",
       "      <td>lights</td>\n",
       "      <td>[-0.0009428626, -0.0009029041, -0.00086400076,...</td>\n",
       "      <td>22050</td>\n",
       "      <td>1.070748</td>\n",
       "    </tr>\n",
       "    <tr>\n",
       "      <th>3</th>\n",
       "      <td>dsl_data/audio/speakers/2BqVo8kVB2Skwgyb/269fc...</td>\n",
       "      <td>increase</td>\n",
       "      <td>volume</td>\n",
       "      <td>[-3.236027e-07, -4.1036277e-09, 4.031165e-07, ...</td>\n",
       "      <td>22050</td>\n",
       "      <td>0.134240</td>\n",
       "    </tr>\n",
       "    <tr>\n",
       "      <th>4</th>\n",
       "      <td>dsl_data/audio/speakers/2BqVo8kVB2Skwgyb/5bbda...</td>\n",
       "      <td>increase</td>\n",
       "      <td>volume</td>\n",
       "      <td>[-5.562561e-07, 7.866835e-07, -1.804527e-07, -...</td>\n",
       "      <td>22050</td>\n",
       "      <td>1.377778</td>\n",
       "    </tr>\n",
       "  </tbody>\n",
       "</table>\n",
       "</div>"
      ],
      "text/plain": [
       "                                                 path           action  \\\n",
       "Id                                                                       \n",
       "0   dsl_data/audio/speakers/2BqVo8kVB2Skwgyb/0a312...  change language   \n",
       "1   dsl_data/audio/speakers/2BqVo8kVB2Skwgyb/0ee42...         activate   \n",
       "2   dsl_data/audio/speakers/2BqVo8kVB2Skwgyb/1d9f3...       deactivate   \n",
       "3   dsl_data/audio/speakers/2BqVo8kVB2Skwgyb/269fc...         increase   \n",
       "4   dsl_data/audio/speakers/2BqVo8kVB2Skwgyb/5bbda...         increase   \n",
       "\n",
       "    object                                               info  sample_rate  \\\n",
       "Id                                                                           \n",
       "0     none  [0.00911877, 0.016520254, -0.004310082, -0.015...        22050   \n",
       "1    music  [0.00027365616, 0.0010685086, 0.0017168283, 0....        22050   \n",
       "2   lights  [-0.0009428626, -0.0009029041, -0.00086400076,...        22050   \n",
       "3   volume  [-3.236027e-07, -4.1036277e-09, 4.031165e-07, ...        22050   \n",
       "4   volume  [-5.562561e-07, 7.866835e-07, -1.804527e-07, -...        22050   \n",
       "\n",
       "    duration  \n",
       "Id            \n",
       "0   0.968254  \n",
       "1   0.542404  \n",
       "2   1.070748  \n",
       "3   0.134240  \n",
       "4   1.377778  "
      ]
     },
     "execution_count": 6,
     "metadata": {},
     "output_type": "execute_result"
    }
   ],
   "source": [
    "df_dev.head()"
   ]
  },
  {
   "cell_type": "code",
   "execution_count": 7,
   "id": "c973d039-5ec4-43df-b915-3c5fb3359cb7",
   "metadata": {},
   "outputs": [
    {
     "data": {
      "text/plain": [
       "6.834920634920635"
      ]
     },
     "execution_count": 7,
     "metadata": {},
     "output_type": "execute_result"
    }
   ],
   "source": [
    "df_dev['duration'].max()"
   ]
  },
  {
   "cell_type": "code",
   "execution_count": 12,
   "id": "8b6f347d-0c9d-4884-b5af-82447af6b5f3",
   "metadata": {},
   "outputs": [],
   "source": [
    "def remove_outliers(df):\n",
    "    \n",
    "    print(\"Old Shape: \", df.shape)\n",
    "\n",
    "    upper = np.where(df['duration'] >= 3) \n",
    "    df.drop(upper[0], inplace = True)\n",
    "\n",
    "    print(\"New Shape: \", df.shape)\n",
    "    \n",
    "    return df"
   ]
  },
  {
   "cell_type": "code",
   "execution_count": 13,
   "id": "710efa91-55d3-4a09-9645-88c0ea826514",
   "metadata": {},
   "outputs": [
    {
     "name": "stdout",
     "output_type": "stream",
     "text": [
      "Old Shape:  (9854, 6)\n",
      "New Shape:  (9827, 6)\n"
     ]
    }
   ],
   "source": [
    "df_dev = remove_outliers(df_dev)"
   ]
  },
  {
   "cell_type": "code",
   "execution_count": 14,
   "id": "1bd3795a-62e5-46b0-9345-4eccbf5492a6",
   "metadata": {},
   "outputs": [],
   "source": [
    "def add_padding(info, upper_bound):\n",
    "    \n",
    "    pad = np.zeros(upper_bound - len(info), dtype=np.float32)\n",
    "    info = np.concatenate([info, pad],0)\n",
    "    \n",
    "    return info"
   ]
  },
  {
   "cell_type": "code",
   "execution_count": 15,
   "id": "fad89de3-83f1-46a2-a103-56137cce7a1f",
   "metadata": {},
   "outputs": [],
   "source": [
    "info_length = [ len(info) for info in df_dev['info'] ]\n",
    "max_length = max(info_length)"
   ]
  },
  {
   "cell_type": "code",
   "execution_count": 16,
   "id": "3a80605a-226f-4b88-9d11-4ab2d4a19fd1",
   "metadata": {},
   "outputs": [],
   "source": [
    "df_dev['info'] = df_dev.apply(lambda r: add_padding(r['info'], max_length), axis=1)"
   ]
  },
  {
   "cell_type": "code",
   "execution_count": 17,
   "id": "26aeb152-0c94-47d5-acf4-f1537cf5bd1f",
   "metadata": {},
   "outputs": [
    {
     "data": {
      "text/html": [
       "<div>\n",
       "<style scoped>\n",
       "    .dataframe tbody tr th:only-of-type {\n",
       "        vertical-align: middle;\n",
       "    }\n",
       "\n",
       "    .dataframe tbody tr th {\n",
       "        vertical-align: top;\n",
       "    }\n",
       "\n",
       "    .dataframe thead th {\n",
       "        text-align: right;\n",
       "    }\n",
       "</style>\n",
       "<table border=\"1\" class=\"dataframe\">\n",
       "  <thead>\n",
       "    <tr style=\"text-align: right;\">\n",
       "      <th></th>\n",
       "      <th>path</th>\n",
       "      <th>action</th>\n",
       "      <th>object</th>\n",
       "      <th>info</th>\n",
       "      <th>sample_rate</th>\n",
       "      <th>duration</th>\n",
       "    </tr>\n",
       "    <tr>\n",
       "      <th>Id</th>\n",
       "      <th></th>\n",
       "      <th></th>\n",
       "      <th></th>\n",
       "      <th></th>\n",
       "      <th></th>\n",
       "      <th></th>\n",
       "    </tr>\n",
       "  </thead>\n",
       "  <tbody>\n",
       "    <tr>\n",
       "      <th>0</th>\n",
       "      <td>dsl_data/audio/speakers/2BqVo8kVB2Skwgyb/0a312...</td>\n",
       "      <td>change language</td>\n",
       "      <td>none</td>\n",
       "      <td>[0.00911877, 0.016520254, -0.004310082, -0.015...</td>\n",
       "      <td>22050</td>\n",
       "      <td>0.968254</td>\n",
       "    </tr>\n",
       "    <tr>\n",
       "      <th>1</th>\n",
       "      <td>dsl_data/audio/speakers/2BqVo8kVB2Skwgyb/0ee42...</td>\n",
       "      <td>activate</td>\n",
       "      <td>music</td>\n",
       "      <td>[0.00027365616, 0.0010685086, 0.0017168283, 0....</td>\n",
       "      <td>22050</td>\n",
       "      <td>0.542404</td>\n",
       "    </tr>\n",
       "    <tr>\n",
       "      <th>2</th>\n",
       "      <td>dsl_data/audio/speakers/2BqVo8kVB2Skwgyb/1d9f3...</td>\n",
       "      <td>deactivate</td>\n",
       "      <td>lights</td>\n",
       "      <td>[-0.0009428626, -0.0009029041, -0.00086400076,...</td>\n",
       "      <td>22050</td>\n",
       "      <td>1.070748</td>\n",
       "    </tr>\n",
       "    <tr>\n",
       "      <th>3</th>\n",
       "      <td>dsl_data/audio/speakers/2BqVo8kVB2Skwgyb/269fc...</td>\n",
       "      <td>increase</td>\n",
       "      <td>volume</td>\n",
       "      <td>[-3.236027e-07, -4.1036277e-09, 4.031165e-07, ...</td>\n",
       "      <td>22050</td>\n",
       "      <td>0.134240</td>\n",
       "    </tr>\n",
       "    <tr>\n",
       "      <th>4</th>\n",
       "      <td>dsl_data/audio/speakers/2BqVo8kVB2Skwgyb/5bbda...</td>\n",
       "      <td>increase</td>\n",
       "      <td>volume</td>\n",
       "      <td>[-5.562561e-07, 7.866835e-07, -1.804527e-07, -...</td>\n",
       "      <td>22050</td>\n",
       "      <td>1.377778</td>\n",
       "    </tr>\n",
       "  </tbody>\n",
       "</table>\n",
       "</div>"
      ],
      "text/plain": [
       "                                                 path           action  \\\n",
       "Id                                                                       \n",
       "0   dsl_data/audio/speakers/2BqVo8kVB2Skwgyb/0a312...  change language   \n",
       "1   dsl_data/audio/speakers/2BqVo8kVB2Skwgyb/0ee42...         activate   \n",
       "2   dsl_data/audio/speakers/2BqVo8kVB2Skwgyb/1d9f3...       deactivate   \n",
       "3   dsl_data/audio/speakers/2BqVo8kVB2Skwgyb/269fc...         increase   \n",
       "4   dsl_data/audio/speakers/2BqVo8kVB2Skwgyb/5bbda...         increase   \n",
       "\n",
       "    object                                               info  sample_rate  \\\n",
       "Id                                                                           \n",
       "0     none  [0.00911877, 0.016520254, -0.004310082, -0.015...        22050   \n",
       "1    music  [0.00027365616, 0.0010685086, 0.0017168283, 0....        22050   \n",
       "2   lights  [-0.0009428626, -0.0009029041, -0.00086400076,...        22050   \n",
       "3   volume  [-3.236027e-07, -4.1036277e-09, 4.031165e-07, ...        22050   \n",
       "4   volume  [-5.562561e-07, 7.866835e-07, -1.804527e-07, -...        22050   \n",
       "\n",
       "    duration  \n",
       "Id            \n",
       "0   0.968254  \n",
       "1   0.542404  \n",
       "2   1.070748  \n",
       "3   0.134240  \n",
       "4   1.377778  "
      ]
     },
     "execution_count": 17,
     "metadata": {},
     "output_type": "execute_result"
    }
   ],
   "source": [
    "df_dev.head()"
   ]
  },
  {
   "cell_type": "code",
   "execution_count": 18,
   "id": "eedc29f9-adf7-4753-b50a-ab1b0a92e9ab",
   "metadata": {},
   "outputs": [],
   "source": [
    "df_dev['mfcc'] = df_dev.apply(lambda r: librosa.feature.mfcc(y=r['info'], sr=22050), axis=1)"
   ]
  },
  {
   "cell_type": "code",
   "execution_count": 19,
   "id": "6026e550-c14d-4a23-9fde-e29bc2f71bf1",
   "metadata": {},
   "outputs": [],
   "source": [
    "df_dev.drop(['path', 'info', 'sample_rate', 'duration'], axis=1, inplace=True)"
   ]
  },
  {
   "cell_type": "code",
   "execution_count": 20,
   "id": "9a556e57-0565-4d49-975d-70e41c100a6c",
   "metadata": {},
   "outputs": [
    {
     "data": {
      "text/html": [
       "<div>\n",
       "<style scoped>\n",
       "    .dataframe tbody tr th:only-of-type {\n",
       "        vertical-align: middle;\n",
       "    }\n",
       "\n",
       "    .dataframe tbody tr th {\n",
       "        vertical-align: top;\n",
       "    }\n",
       "\n",
       "    .dataframe thead th {\n",
       "        text-align: right;\n",
       "    }\n",
       "</style>\n",
       "<table border=\"1\" class=\"dataframe\">\n",
       "  <thead>\n",
       "    <tr style=\"text-align: right;\">\n",
       "      <th></th>\n",
       "      <th>action</th>\n",
       "      <th>object</th>\n",
       "      <th>mfcc</th>\n",
       "    </tr>\n",
       "    <tr>\n",
       "      <th>Id</th>\n",
       "      <th></th>\n",
       "      <th></th>\n",
       "      <th></th>\n",
       "    </tr>\n",
       "  </thead>\n",
       "  <tbody>\n",
       "    <tr>\n",
       "      <th>0</th>\n",
       "      <td>change language</td>\n",
       "      <td>none</td>\n",
       "      <td>[[-391.36572, -334.59875, -329.9948, -338.0268...</td>\n",
       "    </tr>\n",
       "    <tr>\n",
       "      <th>1</th>\n",
       "      <td>activate</td>\n",
       "      <td>music</td>\n",
       "      <td>[[-456.5393, -398.14557, -397.90173, -400.3576...</td>\n",
       "    </tr>\n",
       "    <tr>\n",
       "      <th>2</th>\n",
       "      <td>deactivate</td>\n",
       "      <td>lights</td>\n",
       "      <td>[[-608.87067, -579.16266, -592.0531, -617.7442...</td>\n",
       "    </tr>\n",
       "    <tr>\n",
       "      <th>3</th>\n",
       "      <td>increase</td>\n",
       "      <td>volume</td>\n",
       "      <td>[[-399.90738, -159.36209, -60.798008, -44.2711...</td>\n",
       "    </tr>\n",
       "    <tr>\n",
       "      <th>4</th>\n",
       "      <td>increase</td>\n",
       "      <td>volume</td>\n",
       "      <td>[[-586.8521, -509.29446, -504.02423, -524.8576...</td>\n",
       "    </tr>\n",
       "  </tbody>\n",
       "</table>\n",
       "</div>"
      ],
      "text/plain": [
       "             action  object                                               mfcc\n",
       "Id                                                                            \n",
       "0   change language    none  [[-391.36572, -334.59875, -329.9948, -338.0268...\n",
       "1          activate   music  [[-456.5393, -398.14557, -397.90173, -400.3576...\n",
       "2        deactivate  lights  [[-608.87067, -579.16266, -592.0531, -617.7442...\n",
       "3          increase  volume  [[-399.90738, -159.36209, -60.798008, -44.2711...\n",
       "4          increase  volume  [[-586.8521, -509.29446, -504.02423, -524.8576..."
      ]
     },
     "execution_count": 20,
     "metadata": {},
     "output_type": "execute_result"
    }
   ],
   "source": [
    "df_dev.head()"
   ]
  },
  {
   "cell_type": "code",
   "execution_count": 21,
   "id": "34bf88e6-fafa-4d7e-9e1b-6dcf07e79927",
   "metadata": {},
   "outputs": [],
   "source": [
    "def cal_mean_std_blocks(info, n, m):\n",
    "    \n",
    "    h, v = info.shape\n",
    "    \n",
    "    means = []\n",
    "    stds = []\n",
    "        \n",
    "    i = 0\n",
    "    while True:\n",
    "        \n",
    "        ii = i + n\n",
    "        if ii > h:\n",
    "            ii = h\n",
    "            \n",
    "        j = 0\n",
    "        while True:\n",
    "            \n",
    "            jj = j + m\n",
    "            if jj > v:\n",
    "                jj = v\n",
    "                \n",
    "            means.append(np.mean(info[i:ii, j:jj]))\n",
    "            stds.append(np.std(info[i:ii, j:jj]))\n",
    "            \n",
    "            if jj == v:\n",
    "                break\n",
    "            else:\n",
    "                j += m\n",
    "            \n",
    "        \n",
    "        if ii == h:\n",
    "            break\n",
    "        else:\n",
    "            i += n\n",
    "        \n",
    "            \n",
    "    return means, stds"
   ]
  },
  {
   "cell_type": "code",
   "execution_count": 22,
   "id": "bcd8c879-8f3c-4d90-b5fb-83f02e7a1453",
   "metadata": {},
   "outputs": [
    {
     "data": {
      "text/plain": [
       "(20, 130)"
      ]
     },
     "execution_count": 22,
     "metadata": {},
     "output_type": "execute_result"
    }
   ],
   "source": [
    "df_dev.iloc[0]['mfcc'].shape"
   ]
  },
  {
   "cell_type": "code",
   "execution_count": 23,
   "id": "c565f6ed-25f2-42d2-873c-8964865ab64f",
   "metadata": {},
   "outputs": [],
   "source": [
    "df_dev[['bls_mean', 'bls_std']] = df_dev.apply(lambda r: cal_mean_std_blocks(r['mfcc'], 1, 10), axis=1, result_type='expand')"
   ]
  },
  {
   "cell_type": "code",
   "execution_count": 25,
   "id": "c38aec40-463d-4d74-870e-4ccca9b24c6f",
   "metadata": {},
   "outputs": [],
   "source": [
    "mean_cols = [f'mean_block{i}' for i in range(20*13)]\n",
    "means = pd.DataFrame(df_dev.bls_mean.tolist(), index=df_dev.index, columns=mean_cols)\n",
    "df_dev = pd.concat((df_dev, means), axis=1)"
   ]
  },
  {
   "cell_type": "code",
   "execution_count": 26,
   "id": "e5faa600-2e76-466f-9107-d572b546bdbd",
   "metadata": {},
   "outputs": [],
   "source": [
    "std_cols = [f'std_block{i}' for i in range(20*13)]\n",
    "stds = pd.DataFrame(df_dev.bls_std.tolist(), index=df_dev.index, columns=std_cols)\n",
    "df_dev = pd.concat((df_dev, stds), axis=1)"
   ]
  },
  {
   "cell_type": "code",
   "execution_count": 27,
   "id": "9b7d1660-6f7f-4aa0-9d19-edc1adc560a6",
   "metadata": {},
   "outputs": [],
   "source": [
    "df_dev.drop(['bls_mean', 'bls_std','mfcc'], axis=1, inplace=True)"
   ]
  },
  {
   "cell_type": "code",
   "execution_count": 28,
   "id": "ef4e79fd-cfc2-4533-aa35-4e69b03d80a2",
   "metadata": {},
   "outputs": [
    {
     "data": {
      "text/html": [
       "<div>\n",
       "<style scoped>\n",
       "    .dataframe tbody tr th:only-of-type {\n",
       "        vertical-align: middle;\n",
       "    }\n",
       "\n",
       "    .dataframe tbody tr th {\n",
       "        vertical-align: top;\n",
       "    }\n",
       "\n",
       "    .dataframe thead th {\n",
       "        text-align: right;\n",
       "    }\n",
       "</style>\n",
       "<table border=\"1\" class=\"dataframe\">\n",
       "  <thead>\n",
       "    <tr style=\"text-align: right;\">\n",
       "      <th></th>\n",
       "      <th>action</th>\n",
       "      <th>object</th>\n",
       "      <th>mean_block0</th>\n",
       "      <th>mean_block1</th>\n",
       "      <th>mean_block2</th>\n",
       "      <th>mean_block3</th>\n",
       "      <th>mean_block4</th>\n",
       "      <th>mean_block5</th>\n",
       "      <th>mean_block6</th>\n",
       "      <th>mean_block7</th>\n",
       "      <th>...</th>\n",
       "      <th>std_block250</th>\n",
       "      <th>std_block251</th>\n",
       "      <th>std_block252</th>\n",
       "      <th>std_block253</th>\n",
       "      <th>std_block254</th>\n",
       "      <th>std_block255</th>\n",
       "      <th>std_block256</th>\n",
       "      <th>std_block257</th>\n",
       "      <th>std_block258</th>\n",
       "      <th>std_block259</th>\n",
       "    </tr>\n",
       "    <tr>\n",
       "      <th>Id</th>\n",
       "      <th></th>\n",
       "      <th></th>\n",
       "      <th></th>\n",
       "      <th></th>\n",
       "      <th></th>\n",
       "      <th></th>\n",
       "      <th></th>\n",
       "      <th></th>\n",
       "      <th></th>\n",
       "      <th></th>\n",
       "      <th></th>\n",
       "      <th></th>\n",
       "      <th></th>\n",
       "      <th></th>\n",
       "      <th></th>\n",
       "      <th></th>\n",
       "      <th></th>\n",
       "      <th></th>\n",
       "      <th></th>\n",
       "      <th></th>\n",
       "      <th></th>\n",
       "    </tr>\n",
       "  </thead>\n",
       "  <tbody>\n",
       "    <tr>\n",
       "      <th>0</th>\n",
       "      <td>change language</td>\n",
       "      <td>none</td>\n",
       "      <td>-356.203796</td>\n",
       "      <td>-388.766907</td>\n",
       "      <td>-343.028473</td>\n",
       "      <td>-411.987061</td>\n",
       "      <td>-634.455688</td>\n",
       "      <td>-759.753540</td>\n",
       "      <td>-759.753540</td>\n",
       "      <td>-759.753540</td>\n",
       "      <td>...</td>\n",
       "      <td>3.987195</td>\n",
       "      <td>1.201935</td>\n",
       "      <td>0.000000</td>\n",
       "      <td>0.000000</td>\n",
       "      <td>0.0</td>\n",
       "      <td>0.0</td>\n",
       "      <td>0.0</td>\n",
       "      <td>0.0</td>\n",
       "      <td>0.0</td>\n",
       "      <td>0.0</td>\n",
       "    </tr>\n",
       "    <tr>\n",
       "      <th>1</th>\n",
       "      <td>activate</td>\n",
       "      <td>music</td>\n",
       "      <td>-410.082947</td>\n",
       "      <td>-394.757629</td>\n",
       "      <td>-633.704102</td>\n",
       "      <td>-773.689026</td>\n",
       "      <td>-773.689026</td>\n",
       "      <td>-773.689026</td>\n",
       "      <td>-773.689026</td>\n",
       "      <td>-773.689026</td>\n",
       "      <td>...</td>\n",
       "      <td>0.000000</td>\n",
       "      <td>0.000000</td>\n",
       "      <td>0.000000</td>\n",
       "      <td>0.000000</td>\n",
       "      <td>0.0</td>\n",
       "      <td>0.0</td>\n",
       "      <td>0.0</td>\n",
       "      <td>0.0</td>\n",
       "      <td>0.0</td>\n",
       "      <td>0.0</td>\n",
       "    </tr>\n",
       "    <tr>\n",
       "      <th>2</th>\n",
       "      <td>deactivate</td>\n",
       "      <td>lights</td>\n",
       "      <td>-623.106384</td>\n",
       "      <td>-563.920349</td>\n",
       "      <td>-579.079712</td>\n",
       "      <td>-577.224548</td>\n",
       "      <td>-576.191650</td>\n",
       "      <td>-852.390991</td>\n",
       "      <td>-852.390991</td>\n",
       "      <td>-852.390991</td>\n",
       "      <td>...</td>\n",
       "      <td>5.709394</td>\n",
       "      <td>5.630404</td>\n",
       "      <td>0.000000</td>\n",
       "      <td>0.000000</td>\n",
       "      <td>0.0</td>\n",
       "      <td>0.0</td>\n",
       "      <td>0.0</td>\n",
       "      <td>0.0</td>\n",
       "      <td>0.0</td>\n",
       "      <td>0.0</td>\n",
       "    </tr>\n",
       "    <tr>\n",
       "      <th>3</th>\n",
       "      <td>increase</td>\n",
       "      <td>volume</td>\n",
       "      <td>-316.254639</td>\n",
       "      <td>-717.285522</td>\n",
       "      <td>-717.285522</td>\n",
       "      <td>-717.285522</td>\n",
       "      <td>-717.285522</td>\n",
       "      <td>-717.285522</td>\n",
       "      <td>-717.285522</td>\n",
       "      <td>-717.285522</td>\n",
       "      <td>...</td>\n",
       "      <td>0.000000</td>\n",
       "      <td>0.000000</td>\n",
       "      <td>0.000000</td>\n",
       "      <td>0.000000</td>\n",
       "      <td>0.0</td>\n",
       "      <td>0.0</td>\n",
       "      <td>0.0</td>\n",
       "      <td>0.0</td>\n",
       "      <td>0.0</td>\n",
       "      <td>0.0</td>\n",
       "    </tr>\n",
       "    <tr>\n",
       "      <th>4</th>\n",
       "      <td>increase</td>\n",
       "      <td>volume</td>\n",
       "      <td>-550.202698</td>\n",
       "      <td>-583.736755</td>\n",
       "      <td>-531.322693</td>\n",
       "      <td>-547.182495</td>\n",
       "      <td>-681.888916</td>\n",
       "      <td>-645.443481</td>\n",
       "      <td>-792.129395</td>\n",
       "      <td>-806.178833</td>\n",
       "      <td>...</td>\n",
       "      <td>3.472549</td>\n",
       "      <td>3.296805</td>\n",
       "      <td>3.561493</td>\n",
       "      <td>2.887089</td>\n",
       "      <td>0.0</td>\n",
       "      <td>0.0</td>\n",
       "      <td>0.0</td>\n",
       "      <td>0.0</td>\n",
       "      <td>0.0</td>\n",
       "      <td>0.0</td>\n",
       "    </tr>\n",
       "  </tbody>\n",
       "</table>\n",
       "<p>5 rows × 522 columns</p>\n",
       "</div>"
      ],
      "text/plain": [
       "             action  object  mean_block0  mean_block1  mean_block2  \\\n",
       "Id                                                                   \n",
       "0   change language    none  -356.203796  -388.766907  -343.028473   \n",
       "1          activate   music  -410.082947  -394.757629  -633.704102   \n",
       "2        deactivate  lights  -623.106384  -563.920349  -579.079712   \n",
       "3          increase  volume  -316.254639  -717.285522  -717.285522   \n",
       "4          increase  volume  -550.202698  -583.736755  -531.322693   \n",
       "\n",
       "    mean_block3  mean_block4  mean_block5  mean_block6  mean_block7  ...  \\\n",
       "Id                                                                   ...   \n",
       "0   -411.987061  -634.455688  -759.753540  -759.753540  -759.753540  ...   \n",
       "1   -773.689026  -773.689026  -773.689026  -773.689026  -773.689026  ...   \n",
       "2   -577.224548  -576.191650  -852.390991  -852.390991  -852.390991  ...   \n",
       "3   -717.285522  -717.285522  -717.285522  -717.285522  -717.285522  ...   \n",
       "4   -547.182495  -681.888916  -645.443481  -792.129395  -806.178833  ...   \n",
       "\n",
       "    std_block250  std_block251  std_block252  std_block253  std_block254  \\\n",
       "Id                                                                         \n",
       "0       3.987195      1.201935      0.000000      0.000000           0.0   \n",
       "1       0.000000      0.000000      0.000000      0.000000           0.0   \n",
       "2       5.709394      5.630404      0.000000      0.000000           0.0   \n",
       "3       0.000000      0.000000      0.000000      0.000000           0.0   \n",
       "4       3.472549      3.296805      3.561493      2.887089           0.0   \n",
       "\n",
       "    std_block255  std_block256  std_block257  std_block258  std_block259  \n",
       "Id                                                                        \n",
       "0            0.0           0.0           0.0           0.0           0.0  \n",
       "1            0.0           0.0           0.0           0.0           0.0  \n",
       "2            0.0           0.0           0.0           0.0           0.0  \n",
       "3            0.0           0.0           0.0           0.0           0.0  \n",
       "4            0.0           0.0           0.0           0.0           0.0  \n",
       "\n",
       "[5 rows x 522 columns]"
      ]
     },
     "execution_count": 28,
     "metadata": {},
     "output_type": "execute_result"
    }
   ],
   "source": [
    "df_dev.head()"
   ]
  },
  {
   "cell_type": "code",
   "execution_count": 29,
   "id": "8e181eb0-419e-4444-a3ef-c61cad4d2920",
   "metadata": {},
   "outputs": [],
   "source": [
    "y = df_dev[['action', 'object']]\n",
    "X = df_dev.drop(['action', 'object'], axis=1)"
   ]
  },
  {
   "cell_type": "code",
   "execution_count": 30,
   "id": "d9baba29-ba09-4e4f-a3da-a69e8148c56c",
   "metadata": {},
   "outputs": [],
   "source": [
    "y_concat = y['action']+y['object']"
   ]
  },
  {
   "cell_type": "code",
   "execution_count": 44,
   "id": "e2d6ebb7-9af0-4688-8154-0643733c58f6",
   "metadata": {},
   "outputs": [],
   "source": [
    "pca_scaler = PCA(n_components=50).fit(X)"
   ]
  },
  {
   "cell_type": "code",
   "execution_count": 45,
   "id": "9440da4e-6838-4dce-93f6-fa9d8deb5a2c",
   "metadata": {},
   "outputs": [],
   "source": [
    "X_PCA = pca_scaler.transform(X)"
   ]
  },
  {
   "cell_type": "code",
   "execution_count": 46,
   "id": "5444261c-bde1-41ae-9cf4-4c8a5afb16f3",
   "metadata": {},
   "outputs": [],
   "source": [
    "scaler = StandardScaler().fit(X_PCA)"
   ]
  },
  {
   "cell_type": "code",
   "execution_count": 47,
   "id": "29a26cf4-d9d1-4cb0-a409-42d6ae503a72",
   "metadata": {},
   "outputs": [],
   "source": [
    "X_transformed = scaler.transform(X_PCA)"
   ]
  },
  {
   "cell_type": "code",
   "execution_count": 48,
   "id": "e32182e7-0cf0-4e47-9191-cdc2fc2afce5",
   "metadata": {},
   "outputs": [],
   "source": [
    "X_train, X_test, y_train, y_test = train_test_split(X_transformed, y_concat, test_size=0.2, shuffle=True, stratify=y_concat)"
   ]
  },
  {
   "cell_type": "code",
   "execution_count": 49,
   "id": "e77bf7c9-5ee4-43d2-9c6e-c441efeb6c99",
   "metadata": {},
   "outputs": [
    {
     "data": {
      "text/plain": [
       "0.6642929806714141"
      ]
     },
     "execution_count": 49,
     "metadata": {},
     "output_type": "execute_result"
    }
   ],
   "source": [
    "svc = SVC().fit(X_train, y_train)\n",
    "y_pred = svc.predict(X_test)\n",
    "accuracy_score(y_test, y_pred)"
   ]
  },
  {
   "cell_type": "markdown",
   "id": "acf10755-dd78-4c5f-bdc5-c1a460689fee",
   "metadata": {},
   "source": [
    "<h3> Tunning SVM </h3>"
   ]
  },
  {
   "cell_type": "code",
   "execution_count": 50,
   "id": "325f7fd6-ecef-45c4-bacf-293a94cc7f09",
   "metadata": {},
   "outputs": [
    {
     "data": {
      "text/plain": [
       "0.6993896236012207"
      ]
     },
     "execution_count": 50,
     "metadata": {},
     "output_type": "execute_result"
    }
   ],
   "source": [
    "svc = SVC(kernel='rbf', C=4, gamma='scale', class_weight='balanced').fit(X_train, y_train)\n",
    "y_pred = svc.predict(X_test)\n",
    "accuracy_score(y_test, y_pred)"
   ]
  },
  {
   "cell_type": "markdown",
   "id": "bd991d98-3fbc-4a09-856b-60e68acae6e3",
   "metadata": {},
   "source": [
    "<h3> Submission </h3>"
   ]
  },
  {
   "cell_type": "code",
   "execution_count": 8,
   "id": "26147665-8ee7-4529-9b57-d55e33e41af6",
   "metadata": {},
   "outputs": [],
   "source": [
    "df_test = pd.read_csv('evaluation.csv', index_col=0)"
   ]
  },
  {
   "cell_type": "code",
   "execution_count": 9,
   "id": "e5f878f6-dbe1-4dec-9c65-65a1dc528482",
   "metadata": {},
   "outputs": [],
   "source": [
    "df_test[['info', 'sample_rate', 'duration']] = df_test.apply(lambda r: load_file(r['path']), axis=1, result_type='expand')"
   ]
  },
  {
   "cell_type": "code",
   "execution_count": 10,
   "id": "71845948-9daa-4812-a555-fcc5e93a65d5",
   "metadata": {},
   "outputs": [],
   "source": [
    "df_test = df_test[['info', 'duration']]"
   ]
  },
  {
   "cell_type": "code",
   "execution_count": 11,
   "id": "243ac8e6-6d66-4228-91ce-3b16c70a2eb6",
   "metadata": {},
   "outputs": [
    {
     "data": {
      "text/plain": [
       "2.727437641723356"
      ]
     },
     "execution_count": 11,
     "metadata": {},
     "output_type": "execute_result"
    }
   ],
   "source": [
    "df_test['duration'].max()"
   ]
  },
  {
   "cell_type": "code",
   "execution_count": 51,
   "id": "525690ff-158b-404b-8665-56ec73e08e1e",
   "metadata": {},
   "outputs": [],
   "source": [
    "df_test['info'] = df_test.apply(lambda r: add_padding(r['info'], max_length), axis=1)"
   ]
  },
  {
   "cell_type": "code",
   "execution_count": 52,
   "id": "82144317-9f2e-4534-b726-f6e59ae6baba",
   "metadata": {},
   "outputs": [],
   "source": [
    "df_test['mfcc'] = df_test.apply(lambda r: librosa.feature.mfcc(y=r['info'], sr=22050), axis=1)"
   ]
  },
  {
   "cell_type": "code",
   "execution_count": 53,
   "id": "3a43b277-8eed-4648-843c-19df884a4e41",
   "metadata": {},
   "outputs": [
    {
     "data": {
      "text/plain": [
       "(20, 130)"
      ]
     },
     "execution_count": 53,
     "metadata": {},
     "output_type": "execute_result"
    }
   ],
   "source": [
    "df_test.iloc[0]['mfcc'].shape"
   ]
  },
  {
   "cell_type": "code",
   "execution_count": 54,
   "id": "792d9ef6-97ca-4103-bb11-4b42a2e86edd",
   "metadata": {},
   "outputs": [],
   "source": [
    "df_test[['bls_mean', 'bls_std']] = df_test.apply(lambda r: cal_mean_std_blocks(r['mfcc'], 1, 10), axis=1, result_type='expand')"
   ]
  },
  {
   "cell_type": "code",
   "execution_count": 56,
   "id": "a5d6a24a-9c28-4e6d-aff0-bc38736d911f",
   "metadata": {},
   "outputs": [],
   "source": [
    "mean_cols = [f'mean_block{i}' for i in range(260)]\n",
    "means = pd.DataFrame(df_test.bls_mean.tolist(), index=df_test.index, columns=mean_cols)\n",
    "df_test = pd.concat((df_test, means), axis=1)"
   ]
  },
  {
   "cell_type": "code",
   "execution_count": 57,
   "id": "ff1c0e9e-5d1d-4cef-a756-9d007901041b",
   "metadata": {},
   "outputs": [],
   "source": [
    "std_cols = [f'std_block{i}' for i in range(260)]\n",
    "stds = pd.DataFrame(df_test.bls_std.tolist(), index=df_test.index, columns=std_cols)\n",
    "df_test = pd.concat((df_test, stds), axis=1)"
   ]
  },
  {
   "cell_type": "code",
   "execution_count": 58,
   "id": "996d8bef-8778-454e-bca8-ea6249df5a7c",
   "metadata": {},
   "outputs": [],
   "source": [
    "df_test.drop(['info', 'duration', 'mfcc', 'bls_mean', 'bls_std'], axis=1, inplace=True)"
   ]
  },
  {
   "cell_type": "code",
   "execution_count": 59,
   "id": "62fe8c25-36f2-469a-9775-17006cb92ac6",
   "metadata": {},
   "outputs": [
    {
     "data": {
      "text/html": [
       "<div>\n",
       "<style scoped>\n",
       "    .dataframe tbody tr th:only-of-type {\n",
       "        vertical-align: middle;\n",
       "    }\n",
       "\n",
       "    .dataframe tbody tr th {\n",
       "        vertical-align: top;\n",
       "    }\n",
       "\n",
       "    .dataframe thead th {\n",
       "        text-align: right;\n",
       "    }\n",
       "</style>\n",
       "<table border=\"1\" class=\"dataframe\">\n",
       "  <thead>\n",
       "    <tr style=\"text-align: right;\">\n",
       "      <th></th>\n",
       "      <th>mean_block0</th>\n",
       "      <th>mean_block1</th>\n",
       "      <th>mean_block2</th>\n",
       "      <th>mean_block3</th>\n",
       "      <th>mean_block4</th>\n",
       "      <th>mean_block5</th>\n",
       "      <th>mean_block6</th>\n",
       "      <th>mean_block7</th>\n",
       "      <th>mean_block8</th>\n",
       "      <th>mean_block9</th>\n",
       "      <th>...</th>\n",
       "      <th>std_block250</th>\n",
       "      <th>std_block251</th>\n",
       "      <th>std_block252</th>\n",
       "      <th>std_block253</th>\n",
       "      <th>std_block254</th>\n",
       "      <th>std_block255</th>\n",
       "      <th>std_block256</th>\n",
       "      <th>std_block257</th>\n",
       "      <th>std_block258</th>\n",
       "      <th>std_block259</th>\n",
       "    </tr>\n",
       "    <tr>\n",
       "      <th>Id</th>\n",
       "      <th></th>\n",
       "      <th></th>\n",
       "      <th></th>\n",
       "      <th></th>\n",
       "      <th></th>\n",
       "      <th></th>\n",
       "      <th></th>\n",
       "      <th></th>\n",
       "      <th></th>\n",
       "      <th></th>\n",
       "      <th></th>\n",
       "      <th></th>\n",
       "      <th></th>\n",
       "      <th></th>\n",
       "      <th></th>\n",
       "      <th></th>\n",
       "      <th></th>\n",
       "      <th></th>\n",
       "      <th></th>\n",
       "      <th></th>\n",
       "      <th></th>\n",
       "    </tr>\n",
       "  </thead>\n",
       "  <tbody>\n",
       "    <tr>\n",
       "      <th>0</th>\n",
       "      <td>-342.294006</td>\n",
       "      <td>-457.904236</td>\n",
       "      <td>-356.043518</td>\n",
       "      <td>-481.956207</td>\n",
       "      <td>-617.120605</td>\n",
       "      <td>-617.120605</td>\n",
       "      <td>-617.120605</td>\n",
       "      <td>-617.120605</td>\n",
       "      <td>-617.120605</td>\n",
       "      <td>-617.120605</td>\n",
       "      <td>...</td>\n",
       "      <td>5.788821</td>\n",
       "      <td>0.00000</td>\n",
       "      <td>0.0</td>\n",
       "      <td>0.0</td>\n",
       "      <td>0.0</td>\n",
       "      <td>0.0</td>\n",
       "      <td>0.0</td>\n",
       "      <td>0.0</td>\n",
       "      <td>0.0</td>\n",
       "      <td>0.0</td>\n",
       "    </tr>\n",
       "    <tr>\n",
       "      <th>1</th>\n",
       "      <td>-258.892914</td>\n",
       "      <td>-249.393021</td>\n",
       "      <td>-278.448120</td>\n",
       "      <td>-247.989990</td>\n",
       "      <td>-398.591553</td>\n",
       "      <td>-562.826172</td>\n",
       "      <td>-562.826172</td>\n",
       "      <td>-562.826172</td>\n",
       "      <td>-562.826172</td>\n",
       "      <td>-562.826172</td>\n",
       "      <td>...</td>\n",
       "      <td>4.964605</td>\n",
       "      <td>4.33042</td>\n",
       "      <td>0.0</td>\n",
       "      <td>0.0</td>\n",
       "      <td>0.0</td>\n",
       "      <td>0.0</td>\n",
       "      <td>0.0</td>\n",
       "      <td>0.0</td>\n",
       "      <td>0.0</td>\n",
       "      <td>0.0</td>\n",
       "    </tr>\n",
       "    <tr>\n",
       "      <th>2</th>\n",
       "      <td>-337.391937</td>\n",
       "      <td>-327.355164</td>\n",
       "      <td>-323.460052</td>\n",
       "      <td>-367.223480</td>\n",
       "      <td>-699.065796</td>\n",
       "      <td>-699.065796</td>\n",
       "      <td>-699.065796</td>\n",
       "      <td>-699.065796</td>\n",
       "      <td>-699.065796</td>\n",
       "      <td>-699.065796</td>\n",
       "      <td>...</td>\n",
       "      <td>2.827217</td>\n",
       "      <td>0.00000</td>\n",
       "      <td>0.0</td>\n",
       "      <td>0.0</td>\n",
       "      <td>0.0</td>\n",
       "      <td>0.0</td>\n",
       "      <td>0.0</td>\n",
       "      <td>0.0</td>\n",
       "      <td>0.0</td>\n",
       "      <td>0.0</td>\n",
       "    </tr>\n",
       "    <tr>\n",
       "      <th>3</th>\n",
       "      <td>-306.400818</td>\n",
       "      <td>-288.933197</td>\n",
       "      <td>-616.560425</td>\n",
       "      <td>-616.560425</td>\n",
       "      <td>-616.560425</td>\n",
       "      <td>-616.560425</td>\n",
       "      <td>-616.560425</td>\n",
       "      <td>-616.560425</td>\n",
       "      <td>-616.560425</td>\n",
       "      <td>-616.560425</td>\n",
       "      <td>...</td>\n",
       "      <td>0.000000</td>\n",
       "      <td>0.00000</td>\n",
       "      <td>0.0</td>\n",
       "      <td>0.0</td>\n",
       "      <td>0.0</td>\n",
       "      <td>0.0</td>\n",
       "      <td>0.0</td>\n",
       "      <td>0.0</td>\n",
       "      <td>0.0</td>\n",
       "      <td>0.0</td>\n",
       "    </tr>\n",
       "    <tr>\n",
       "      <th>4</th>\n",
       "      <td>-242.725250</td>\n",
       "      <td>-268.238464</td>\n",
       "      <td>-155.275299</td>\n",
       "      <td>-422.023773</td>\n",
       "      <td>-610.489685</td>\n",
       "      <td>-610.489685</td>\n",
       "      <td>-610.489685</td>\n",
       "      <td>-610.489685</td>\n",
       "      <td>-610.489685</td>\n",
       "      <td>-610.489685</td>\n",
       "      <td>...</td>\n",
       "      <td>4.088653</td>\n",
       "      <td>0.00000</td>\n",
       "      <td>0.0</td>\n",
       "      <td>0.0</td>\n",
       "      <td>0.0</td>\n",
       "      <td>0.0</td>\n",
       "      <td>0.0</td>\n",
       "      <td>0.0</td>\n",
       "      <td>0.0</td>\n",
       "      <td>0.0</td>\n",
       "    </tr>\n",
       "  </tbody>\n",
       "</table>\n",
       "<p>5 rows × 520 columns</p>\n",
       "</div>"
      ],
      "text/plain": [
       "    mean_block0  mean_block1  mean_block2  mean_block3  mean_block4  \\\n",
       "Id                                                                    \n",
       "0   -342.294006  -457.904236  -356.043518  -481.956207  -617.120605   \n",
       "1   -258.892914  -249.393021  -278.448120  -247.989990  -398.591553   \n",
       "2   -337.391937  -327.355164  -323.460052  -367.223480  -699.065796   \n",
       "3   -306.400818  -288.933197  -616.560425  -616.560425  -616.560425   \n",
       "4   -242.725250  -268.238464  -155.275299  -422.023773  -610.489685   \n",
       "\n",
       "    mean_block5  mean_block6  mean_block7  mean_block8  mean_block9  ...  \\\n",
       "Id                                                                   ...   \n",
       "0   -617.120605  -617.120605  -617.120605  -617.120605  -617.120605  ...   \n",
       "1   -562.826172  -562.826172  -562.826172  -562.826172  -562.826172  ...   \n",
       "2   -699.065796  -699.065796  -699.065796  -699.065796  -699.065796  ...   \n",
       "3   -616.560425  -616.560425  -616.560425  -616.560425  -616.560425  ...   \n",
       "4   -610.489685  -610.489685  -610.489685  -610.489685  -610.489685  ...   \n",
       "\n",
       "    std_block250  std_block251  std_block252  std_block253  std_block254  \\\n",
       "Id                                                                         \n",
       "0       5.788821       0.00000           0.0           0.0           0.0   \n",
       "1       4.964605       4.33042           0.0           0.0           0.0   \n",
       "2       2.827217       0.00000           0.0           0.0           0.0   \n",
       "3       0.000000       0.00000           0.0           0.0           0.0   \n",
       "4       4.088653       0.00000           0.0           0.0           0.0   \n",
       "\n",
       "    std_block255  std_block256  std_block257  std_block258  std_block259  \n",
       "Id                                                                        \n",
       "0            0.0           0.0           0.0           0.0           0.0  \n",
       "1            0.0           0.0           0.0           0.0           0.0  \n",
       "2            0.0           0.0           0.0           0.0           0.0  \n",
       "3            0.0           0.0           0.0           0.0           0.0  \n",
       "4            0.0           0.0           0.0           0.0           0.0  \n",
       "\n",
       "[5 rows x 520 columns]"
      ]
     },
     "execution_count": 59,
     "metadata": {},
     "output_type": "execute_result"
    }
   ],
   "source": [
    "df_test.head()"
   ]
  },
  {
   "cell_type": "code",
   "execution_count": 60,
   "id": "1bf33217-10b7-43b8-9101-6cc1f43950bf",
   "metadata": {},
   "outputs": [],
   "source": [
    "X_val = pca_scaler.transform(df_test)"
   ]
  },
  {
   "cell_type": "code",
   "execution_count": 61,
   "id": "d12240fe-4f0d-45b9-9333-4ec787952e56",
   "metadata": {},
   "outputs": [],
   "source": [
    "X_val_transformed = scaler.transform(X_val)"
   ]
  },
  {
   "cell_type": "code",
   "execution_count": 62,
   "id": "13d1ef8a-2383-420a-9db7-a1fa63b47b21",
   "metadata": {},
   "outputs": [],
   "source": [
    "y_pred_val = svc.predict(X_val_transformed)"
   ]
  },
  {
   "cell_type": "code",
   "execution_count": 63,
   "id": "bd18d9fc-12a2-47f6-b346-b23899357ad2",
   "metadata": {},
   "outputs": [],
   "source": [
    "df_test['Predicted'] = y_pred_val"
   ]
  },
  {
   "cell_type": "code",
   "execution_count": 64,
   "id": "bcad1953-2f96-4734-8833-9ec90b23bfd3",
   "metadata": {},
   "outputs": [],
   "source": [
    "df_test = df_test['Predicted']"
   ]
  },
  {
   "cell_type": "code",
   "execution_count": 66,
   "id": "244ba70e-a4c8-4e2f-80d6-01f3ee2869f2",
   "metadata": {},
   "outputs": [],
   "source": [
    "df_test.to_csv('submit.csv')"
   ]
  },
  {
   "cell_type": "code",
   "execution_count": null,
   "id": "29a09d0f-2b86-4095-bbf1-33e73ac5d7ee",
   "metadata": {},
   "outputs": [],
   "source": []
  }
 ],
 "metadata": {
  "kernelspec": {
   "display_name": "dslfp",
   "language": "python",
   "name": "dslfp"
  },
  "language_info": {
   "codemirror_mode": {
    "name": "ipython",
    "version": 3
   },
   "file_extension": ".py",
   "mimetype": "text/x-python",
   "name": "python",
   "nbconvert_exporter": "python",
   "pygments_lexer": "ipython3",
   "version": "3.10.9"
  }
 },
 "nbformat": 4,
 "nbformat_minor": 5
}
