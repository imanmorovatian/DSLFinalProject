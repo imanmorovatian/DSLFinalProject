{
 "cells": [
  {
   "cell_type": "code",
   "execution_count": null,
   "metadata": {},
   "outputs": [],
   "source": [
    "import pandas as pd\n",
    "import numpy as np\n",
    "import librosa\n",
    "from sklearn.model_selection import train_test_split\n",
    "from sklearn.preprocessing import StandardScaler\n",
    "from sklearn.decomposition import PCA\n",
    "from sklearn.svm import SVC\n",
    "from sklearn.metrics import accuracy_score"
   ]
  },
  {
   "cell_type": "markdown",
   "metadata": {
    "id": "jQ8Q_T3em0gB"
   },
   "source": [
    "<h1> Loading Development Dataset </h1>"
   ]
  },
  {
   "cell_type": "code",
   "execution_count": 5,
   "metadata": {
    "id": "eS-w7WFymfoX"
   },
   "outputs": [],
   "source": [
    "df_dev = pd.read_csv('development.csv', index_col=0)"
   ]
  },
  {
   "cell_type": "code",
   "execution_count": 6,
   "metadata": {
    "colab": {
     "base_uri": "https://localhost:8080/",
     "height": 507
    },
    "id": "WISa8xhKODNJ",
    "outputId": "7c78ff56-2cc1-4d79-95f9-4b33dca01152"
   },
   "outputs": [
    {
     "data": {
      "text/html": [
       "\n",
       "  <div id=\"df-29297fec-8398-4f80-a041-5e70506be2ef\">\n",
       "    <div class=\"colab-df-container\">\n",
       "      <div>\n",
       "<style scoped>\n",
       "    .dataframe tbody tr th:only-of-type {\n",
       "        vertical-align: middle;\n",
       "    }\n",
       "\n",
       "    .dataframe tbody tr th {\n",
       "        vertical-align: top;\n",
       "    }\n",
       "\n",
       "    .dataframe thead th {\n",
       "        text-align: right;\n",
       "    }\n",
       "</style>\n",
       "<table border=\"1\" class=\"dataframe\">\n",
       "  <thead>\n",
       "    <tr style=\"text-align: right;\">\n",
       "      <th></th>\n",
       "      <th>path</th>\n",
       "      <th>speakerId</th>\n",
       "      <th>action</th>\n",
       "      <th>object</th>\n",
       "      <th>Self-reported fluency level</th>\n",
       "      <th>First Language spoken</th>\n",
       "      <th>Current language used for work/school</th>\n",
       "      <th>gender</th>\n",
       "      <th>ageRange</th>\n",
       "    </tr>\n",
       "    <tr>\n",
       "      <th>Id</th>\n",
       "      <th></th>\n",
       "      <th></th>\n",
       "      <th></th>\n",
       "      <th></th>\n",
       "      <th></th>\n",
       "      <th></th>\n",
       "      <th></th>\n",
       "      <th></th>\n",
       "      <th></th>\n",
       "    </tr>\n",
       "  </thead>\n",
       "  <tbody>\n",
       "    <tr>\n",
       "      <th>0</th>\n",
       "      <td>dsl_data/audio/speakers/2BqVo8kVB2Skwgyb/0a312...</td>\n",
       "      <td>2BqVo8kVB2Skwgyb</td>\n",
       "      <td>change language</td>\n",
       "      <td>none</td>\n",
       "      <td>advanced</td>\n",
       "      <td>English (United States)</td>\n",
       "      <td>English (United States)</td>\n",
       "      <td>female</td>\n",
       "      <td>22-40</td>\n",
       "    </tr>\n",
       "    <tr>\n",
       "      <th>1</th>\n",
       "      <td>dsl_data/audio/speakers/2BqVo8kVB2Skwgyb/0ee42...</td>\n",
       "      <td>2BqVo8kVB2Skwgyb</td>\n",
       "      <td>activate</td>\n",
       "      <td>music</td>\n",
       "      <td>advanced</td>\n",
       "      <td>English (United States)</td>\n",
       "      <td>English (United States)</td>\n",
       "      <td>female</td>\n",
       "      <td>22-40</td>\n",
       "    </tr>\n",
       "    <tr>\n",
       "      <th>2</th>\n",
       "      <td>dsl_data/audio/speakers/2BqVo8kVB2Skwgyb/1d9f3...</td>\n",
       "      <td>2BqVo8kVB2Skwgyb</td>\n",
       "      <td>deactivate</td>\n",
       "      <td>lights</td>\n",
       "      <td>advanced</td>\n",
       "      <td>English (United States)</td>\n",
       "      <td>English (United States)</td>\n",
       "      <td>female</td>\n",
       "      <td>22-40</td>\n",
       "    </tr>\n",
       "    <tr>\n",
       "      <th>3</th>\n",
       "      <td>dsl_data/audio/speakers/2BqVo8kVB2Skwgyb/269fc...</td>\n",
       "      <td>2BqVo8kVB2Skwgyb</td>\n",
       "      <td>increase</td>\n",
       "      <td>volume</td>\n",
       "      <td>advanced</td>\n",
       "      <td>English (United States)</td>\n",
       "      <td>English (United States)</td>\n",
       "      <td>female</td>\n",
       "      <td>22-40</td>\n",
       "    </tr>\n",
       "    <tr>\n",
       "      <th>4</th>\n",
       "      <td>dsl_data/audio/speakers/2BqVo8kVB2Skwgyb/5bbda...</td>\n",
       "      <td>2BqVo8kVB2Skwgyb</td>\n",
       "      <td>increase</td>\n",
       "      <td>volume</td>\n",
       "      <td>advanced</td>\n",
       "      <td>English (United States)</td>\n",
       "      <td>English (United States)</td>\n",
       "      <td>female</td>\n",
       "      <td>22-40</td>\n",
       "    </tr>\n",
       "  </tbody>\n",
       "</table>\n",
       "</div>\n",
       "      <button class=\"colab-df-convert\" onclick=\"convertToInteractive('df-29297fec-8398-4f80-a041-5e70506be2ef')\"\n",
       "              title=\"Convert this dataframe to an interactive table.\"\n",
       "              style=\"display:none;\">\n",
       "        \n",
       "  <svg xmlns=\"http://www.w3.org/2000/svg\" height=\"24px\"viewBox=\"0 0 24 24\"\n",
       "       width=\"24px\">\n",
       "    <path d=\"M0 0h24v24H0V0z\" fill=\"none\"/>\n",
       "    <path d=\"M18.56 5.44l.94 2.06.94-2.06 2.06-.94-2.06-.94-.94-2.06-.94 2.06-2.06.94zm-11 1L8.5 8.5l.94-2.06 2.06-.94-2.06-.94L8.5 2.5l-.94 2.06-2.06.94zm10 10l.94 2.06.94-2.06 2.06-.94-2.06-.94-.94-2.06-.94 2.06-2.06.94z\"/><path d=\"M17.41 7.96l-1.37-1.37c-.4-.4-.92-.59-1.43-.59-.52 0-1.04.2-1.43.59L10.3 9.45l-7.72 7.72c-.78.78-.78 2.05 0 2.83L4 21.41c.39.39.9.59 1.41.59.51 0 1.02-.2 1.41-.59l7.78-7.78 2.81-2.81c.8-.78.8-2.07 0-2.86zM5.41 20L4 18.59l7.72-7.72 1.47 1.35L5.41 20z\"/>\n",
       "  </svg>\n",
       "      </button>\n",
       "      \n",
       "  <style>\n",
       "    .colab-df-container {\n",
       "      display:flex;\n",
       "      flex-wrap:wrap;\n",
       "      gap: 12px;\n",
       "    }\n",
       "\n",
       "    .colab-df-convert {\n",
       "      background-color: #E8F0FE;\n",
       "      border: none;\n",
       "      border-radius: 50%;\n",
       "      cursor: pointer;\n",
       "      display: none;\n",
       "      fill: #1967D2;\n",
       "      height: 32px;\n",
       "      padding: 0 0 0 0;\n",
       "      width: 32px;\n",
       "    }\n",
       "\n",
       "    .colab-df-convert:hover {\n",
       "      background-color: #E2EBFA;\n",
       "      box-shadow: 0px 1px 2px rgba(60, 64, 67, 0.3), 0px 1px 3px 1px rgba(60, 64, 67, 0.15);\n",
       "      fill: #174EA6;\n",
       "    }\n",
       "\n",
       "    [theme=dark] .colab-df-convert {\n",
       "      background-color: #3B4455;\n",
       "      fill: #D2E3FC;\n",
       "    }\n",
       "\n",
       "    [theme=dark] .colab-df-convert:hover {\n",
       "      background-color: #434B5C;\n",
       "      box-shadow: 0px 1px 3px 1px rgba(0, 0, 0, 0.15);\n",
       "      filter: drop-shadow(0px 1px 2px rgba(0, 0, 0, 0.3));\n",
       "      fill: #FFFFFF;\n",
       "    }\n",
       "  </style>\n",
       "\n",
       "      <script>\n",
       "        const buttonEl =\n",
       "          document.querySelector('#df-29297fec-8398-4f80-a041-5e70506be2ef button.colab-df-convert');\n",
       "        buttonEl.style.display =\n",
       "          google.colab.kernel.accessAllowed ? 'block' : 'none';\n",
       "\n",
       "        async function convertToInteractive(key) {\n",
       "          const element = document.querySelector('#df-29297fec-8398-4f80-a041-5e70506be2ef');\n",
       "          const dataTable =\n",
       "            await google.colab.kernel.invokeFunction('convertToInteractive',\n",
       "                                                     [key], {});\n",
       "          if (!dataTable) return;\n",
       "\n",
       "          const docLinkHtml = 'Like what you see? Visit the ' +\n",
       "            '<a target=\"_blank\" href=https://colab.research.google.com/notebooks/data_table.ipynb>data table notebook</a>'\n",
       "            + ' to learn more about interactive tables.';\n",
       "          element.innerHTML = '';\n",
       "          dataTable['output_type'] = 'display_data';\n",
       "          await google.colab.output.renderOutput(dataTable, element);\n",
       "          const docLink = document.createElement('div');\n",
       "          docLink.innerHTML = docLinkHtml;\n",
       "          element.appendChild(docLink);\n",
       "        }\n",
       "      </script>\n",
       "    </div>\n",
       "  </div>\n",
       "  "
      ],
      "text/plain": [
       "                                                 path         speakerId  \\\n",
       "Id                                                                        \n",
       "0   dsl_data/audio/speakers/2BqVo8kVB2Skwgyb/0a312...  2BqVo8kVB2Skwgyb   \n",
       "1   dsl_data/audio/speakers/2BqVo8kVB2Skwgyb/0ee42...  2BqVo8kVB2Skwgyb   \n",
       "2   dsl_data/audio/speakers/2BqVo8kVB2Skwgyb/1d9f3...  2BqVo8kVB2Skwgyb   \n",
       "3   dsl_data/audio/speakers/2BqVo8kVB2Skwgyb/269fc...  2BqVo8kVB2Skwgyb   \n",
       "4   dsl_data/audio/speakers/2BqVo8kVB2Skwgyb/5bbda...  2BqVo8kVB2Skwgyb   \n",
       "\n",
       "             action  object Self-reported fluency level   \\\n",
       "Id                                                         \n",
       "0   change language    none                     advanced   \n",
       "1          activate   music                     advanced   \n",
       "2        deactivate  lights                     advanced   \n",
       "3          increase  volume                     advanced   \n",
       "4          increase  volume                     advanced   \n",
       "\n",
       "      First Language spoken Current language used for work/school  gender  \\\n",
       "Id                                                                          \n",
       "0   English (United States)               English (United States)  female   \n",
       "1   English (United States)               English (United States)  female   \n",
       "2   English (United States)               English (United States)  female   \n",
       "3   English (United States)               English (United States)  female   \n",
       "4   English (United States)               English (United States)  female   \n",
       "\n",
       "   ageRange  \n",
       "Id           \n",
       "0     22-40  \n",
       "1     22-40  \n",
       "2     22-40  \n",
       "3     22-40  \n",
       "4     22-40  "
      ]
     },
     "execution_count": 6,
     "metadata": {},
     "output_type": "execute_result"
    }
   ],
   "source": [
    "df_dev.head()"
   ]
  },
  {
   "cell_type": "markdown",
   "metadata": {
    "id": "5TkVRksOnHJH"
   },
   "source": [
    "<h1> Preprocess </h1>"
   ]
  },
  {
   "cell_type": "code",
   "execution_count": 7,
   "metadata": {
    "id": "ML9OX65Zml0n"
   },
   "outputs": [],
   "source": [
    "df_dev.drop(['speakerId', 'Self-reported fluency level ', 'First Language spoken', 'Current language used for work/school',\n",
    "            'gender', 'ageRange'], axis=1, inplace=True)"
   ]
  },
  {
   "cell_type": "code",
   "execution_count": 8,
   "metadata": {
    "id": "g1PmCF2kmuU3"
   },
   "outputs": [],
   "source": [
    "def load_file(path):\n",
    "\n",
    "    y, sr = librosa.load(path)\n",
    "    y, _ = librosa.effects.trim(y=y, top_db=10, hop_length=10)\n",
    "    duration = librosa.get_duration(y=y, sr=sr)\n",
    "        \n",
    "    return y, duration"
   ]
  },
  {
   "cell_type": "code",
   "execution_count": 9,
   "metadata": {
    "id": "nvr6g3-nnMh7"
   },
   "outputs": [],
   "source": [
    "df_dev[['info', 'duration']] = df_dev.apply(lambda r: load_file(r['path']), axis=1, result_type='expand')"
   ]
  },
  {
   "cell_type": "code",
   "execution_count": 11,
   "metadata": {
    "id": "dcczXvn7nQqm"
   },
   "outputs": [],
   "source": [
    "df_dev.drop('path', axis=1, inplace=True)"
   ]
  },
  {
   "cell_type": "code",
   "execution_count": 12,
   "metadata": {
    "id": "1DCdO6yRq5Uk"
   },
   "outputs": [],
   "source": [
    "def map_duration(duration):\n",
    "    \n",
    "    if 0 <= duration < 1:\n",
    "        return '0-1'\n",
    "    elif 1 <= duration < 2:\n",
    "        return '1-2'\n",
    "    elif 2 <= duration < 3:\n",
    "        return '2-3'\n",
    "    elif 3 <= duration < 4:\n",
    "        return '3-4'\n",
    "    elif 4 <= duration < 5:\n",
    "        return '4-5'\n",
    "    else:\n",
    "        return '>=5'"
   ]
  },
  {
   "cell_type": "code",
   "execution_count": 13,
   "metadata": {
    "id": "_9UcB89-qj7h"
   },
   "outputs": [],
   "source": [
    "df_dev['duration_interval'] = df_dev.apply(lambda r: map_duration(r['duration']), axis=1)"
   ]
  },
  {
   "cell_type": "code",
   "execution_count": 14,
   "metadata": {
    "colab": {
     "base_uri": "https://localhost:8080/"
    },
    "id": "p-uKMHKjrAls",
    "outputId": "d7ff5e08-fa43-49e8-9c53-1008f3ff505e"
   },
   "outputs": [
    {
     "data": {
      "text/plain": [
       "0-1    7168\n",
       "1-2    2451\n",
       "2-3     208\n",
       "3-4      25\n",
       ">=5       2\n",
       "Name: duration_interval, dtype: int64"
      ]
     },
     "execution_count": 14,
     "metadata": {},
     "output_type": "execute_result"
    }
   ],
   "source": [
    "df_dev['duration_interval'].value_counts()"
   ]
  },
  {
   "cell_type": "code",
   "execution_count": 15,
   "metadata": {
    "colab": {
     "base_uri": "https://localhost:8080/"
    },
    "id": "gcN-MZg-rFOV",
    "outputId": "79b04231-6d64-4441-cae6-84d5df2e537f"
   },
   "outputs": [
    {
     "name": "stdout",
     "output_type": "stream",
     "text": [
      "Mean of duration ->  0.8714597937138457\n",
      "Standard Deviation of duration ->  0.41307107664575854\n",
      "Max of duration ->  6.834920634920635\n",
      "Min of duration ->  0.11156462585034013\n"
     ]
    }
   ],
   "source": [
    "print('Mean of duration -> ', df_dev['duration'].mean())\n",
    "print('Standard Deviation of duration -> ', df_dev['duration'].std())\n",
    "print('Max of duration -> ', df_dev['duration'].max())\n",
    "print('Min of duration -> ', df_dev['duration'].min())"
   ]
  },
  {
   "cell_type": "code",
   "execution_count": 16,
   "metadata": {
    "id": "3SGTaSbzrJbA"
   },
   "outputs": [],
   "source": [
    "df_dev.drop('duration_interval', axis=1, inplace=True)"
   ]
  },
  {
   "cell_type": "code",
   "execution_count": 17,
   "metadata": {
    "id": "NO_DpIiFr-14"
   },
   "outputs": [],
   "source": [
    "def remove_outliers(df, threshold):\n",
    "    \n",
    "    print(\"Old Shape: \", df.shape)\n",
    "\n",
    "    upper = np.where(df['duration'] >= threshold) \n",
    "    df.drop(upper[0], inplace = True)\n",
    "\n",
    "    print(\"New Shape: \", df.shape)\n",
    "    \n",
    "    return df"
   ]
  },
  {
   "cell_type": "code",
   "execution_count": 18,
   "metadata": {
    "colab": {
     "base_uri": "https://localhost:8080/"
    },
    "id": "mg364VARsU8v",
    "outputId": "b6a2dcbb-459f-4236-89d6-6e9cd61f5a8d"
   },
   "outputs": [
    {
     "name": "stdout",
     "output_type": "stream",
     "text": [
      "Old Shape:  (9854, 4)\n",
      "New Shape:  (9827, 4)\n"
     ]
    }
   ],
   "source": [
    "df_dev = remove_outliers(df_dev, 3)"
   ]
  },
  {
   "cell_type": "code",
   "execution_count": 19,
   "metadata": {
    "id": "ZhggJI9YtuZe"
   },
   "outputs": [],
   "source": [
    "df_dev.drop('duration', axis=1, inplace=True)"
   ]
  },
  {
   "cell_type": "code",
   "execution_count": 20,
   "metadata": {
    "id": "NAmYBF_IsXOg"
   },
   "outputs": [],
   "source": [
    "def add_padding(info, upper_bound, forTest=False):\n",
    "    \n",
    "    if forTest: # for test set\n",
    "      \n",
    "      if len(info) > upper_bound: # crop the file\n",
    "        info = info[:upper_bound]\n",
    "      else:\n",
    "        pad = np.zeros(upper_bound - len(info), dtype=np.float32)\n",
    "        info = np.concatenate([info, pad],0)\n",
    "      \n",
    "    else: # for train set\n",
    "      pad = np.zeros(upper_bound - len(info), dtype=np.float32)\n",
    "      info = np.concatenate([info, pad],0)\n",
    "    \n",
    "    return info"
   ]
  },
  {
   "cell_type": "code",
   "execution_count": 21,
   "metadata": {
    "id": "uutL78l6ta33"
   },
   "outputs": [],
   "source": [
    "info_length = [ len(info) for info in df_dev['info'] ]\n",
    "max_length = max(info_length)"
   ]
  },
  {
   "cell_type": "code",
   "execution_count": 22,
   "metadata": {
    "id": "6GVxHxgIthV4"
   },
   "outputs": [],
   "source": [
    "df_dev['info'] = df_dev.apply(lambda r: add_padding(r['info'], max_length), axis=1)"
   ]
  },
  {
   "cell_type": "code",
   "execution_count": 23,
   "metadata": {
    "id": "Ayu-q-S6tjtn"
   },
   "outputs": [],
   "source": [
    "df_dev['mfcc'] = df_dev.apply(lambda r: librosa.feature.mfcc(y=r['info'], sr=22050), axis=1)"
   ]
  },
  {
   "cell_type": "code",
   "execution_count": 25,
   "metadata": {
    "id": "RAg9kkPb_h1l"
   },
   "outputs": [],
   "source": [
    "#def_dev_backup = df_dev.copy()"
   ]
  },
  {
   "cell_type": "code",
   "execution_count": 26,
   "metadata": {
    "id": "6_MQLqBM_neA"
   },
   "outputs": [],
   "source": [
    "#df_dev = def_dev_backup.copy()"
   ]
  },
  {
   "cell_type": "code",
   "execution_count": 27,
   "metadata": {
    "id": "cy0D59RUuJPT"
   },
   "outputs": [],
   "source": [
    "df_dev.drop('info', axis=1, inplace=True)"
   ]
  },
  {
   "cell_type": "code",
   "execution_count": 29,
   "metadata": {
    "id": "cTLit6iOQlqp"
   },
   "outputs": [],
   "source": [
    "df_dev['mfcc'] = df_dev.apply(lambda r: r['mfcc'].flatten(), axis=1)"
   ]
  },
  {
   "cell_type": "code",
   "execution_count": 30,
   "metadata": {
    "colab": {
     "base_uri": "https://localhost:8080/"
    },
    "id": "d9YtzJe_iEw0",
    "outputId": "f6763e2b-eba5-4164-b2ab-8f86d6a25d26"
   },
   "outputs": [
    {
     "data": {
      "text/plain": [
       "(2600,)"
      ]
     },
     "execution_count": 30,
     "metadata": {},
     "output_type": "execute_result"
    }
   ],
   "source": [
    "df_dev.iloc[0]['mfcc'].shape"
   ]
  },
  {
   "cell_type": "code",
   "execution_count": 31,
   "metadata": {
    "id": "fxz8yfv1Q8hh"
   },
   "outputs": [],
   "source": [
    "col_names = [f'mfcc{i}' for i in range(2600)]\n",
    "df_new_features = pd.DataFrame(df_dev['mfcc'].tolist(), index=df_dev.index, columns=col_names)\n",
    "df_dev = pd.concat((df_dev, df_new_features), axis=1)"
   ]
  },
  {
   "cell_type": "code",
   "execution_count": 32,
   "metadata": {
    "id": "XXCod_ndwJvs"
   },
   "outputs": [],
   "source": [
    "df_dev.drop(['mfcc'], axis=1, inplace=True)"
   ]
  },
  {
   "cell_type": "code",
   "execution_count": 125,
   "metadata": {
    "id": "xuiV4FVRw4eI"
   },
   "outputs": [],
   "source": [
    "y = df_dev['action'] + df_dev['object']\n",
    "X = df_dev.drop(['action', 'object'], axis=1)"
   ]
  },
  {
   "cell_type": "code",
   "execution_count": 126,
   "metadata": {
    "id": "9rZPD3wqw-k_"
   },
   "outputs": [],
   "source": [
    "pca_scaler = PCA(n_components=50).fit(X)"
   ]
  },
  {
   "cell_type": "code",
   "execution_count": 127,
   "metadata": {
    "id": "gpQgCp9_xED_"
   },
   "outputs": [],
   "source": [
    "X_PCA = pca_scaler.transform(X)"
   ]
  },
  {
   "cell_type": "code",
   "execution_count": 128,
   "metadata": {
    "id": "_Xw-YCNkxGvY"
   },
   "outputs": [],
   "source": [
    "scaler = StandardScaler().fit(X_PCA)"
   ]
  },
  {
   "cell_type": "code",
   "execution_count": 129,
   "metadata": {
    "id": "8ZLdxgJGxJHf"
   },
   "outputs": [],
   "source": [
    "X_transformed = scaler.transform(X_PCA)"
   ]
  },
  {
   "cell_type": "code",
   "execution_count": 133,
   "metadata": {
    "id": "dyxBahzBxMZP"
   },
   "outputs": [],
   "source": [
    "X_train, X_val, y_train, y_val = train_test_split(X_transformed, y, test_size=0.2, shuffle=True, stratify=y)"
   ]
  },
  {
   "cell_type": "markdown",
   "metadata": {
    "id": "hyW44tmjx8yS"
   },
   "source": [
    "<h1> Simple Model </h1>"
   ]
  },
  {
   "cell_type": "code",
   "execution_count": 134,
   "metadata": {
    "colab": {
     "base_uri": "https://localhost:8080/"
    },
    "id": "9BYtZS_Nx7Uj",
    "outputId": "a227235e-b0b0-44b0-d5a0-42200deaf83f"
   },
   "outputs": [
    {
     "data": {
      "text/plain": [
       "0.8894098179812465"
      ]
     },
     "execution_count": 134,
     "metadata": {},
     "output_type": "execute_result"
    }
   ],
   "source": [
    "svc = SVC(kernel='rbf', C=4, gamma='scale', class_weight='balanced').fit(X_train, y_train)\n",
    "y_pred = svc.predict(X_val)\n",
    "accuracy_score(y_val, y_pred)"
   ]
  },
  {
   "cell_type": "markdown",
   "metadata": {
    "id": "4lmkF94mDr15"
   },
   "source": [
    "<h1> Train on Whole the Dataset </h1>"
   ]
  },
  {
   "cell_type": "code",
   "execution_count": 135,
   "metadata": {
    "colab": {
     "base_uri": "https://localhost:8080/"
    },
    "id": "RjOe_ShaDa_B",
    "outputId": "396d0102-0f91-4917-e47e-67a45f8f25c0"
   },
   "outputs": [
    {
     "data": {
      "text/plain": [
       "0.968450082735797"
      ]
     },
     "execution_count": 135,
     "metadata": {},
     "output_type": "execute_result"
    }
   ],
   "source": [
    "final_svc = SVC(kernel='rbf', C=4, gamma='scale', class_weight='balanced').fit(X_transformed, y)\n",
    "y_pred = svc.predict(X_transformed)\n",
    "accuracy_score(y, y_pred)"
   ]
  },
  {
   "cell_type": "markdown",
   "metadata": {
    "id": "jazNW8ZdEfYA"
   },
   "source": [
    "<h1> Submission </h1>"
   ]
  },
  {
   "cell_type": "code",
   "execution_count": 55,
   "metadata": {
    "id": "zhX0B-1MEAly"
   },
   "outputs": [],
   "source": [
    "df_test = pd.read_csv('evaluation.csv', index_col=0)"
   ]
  },
  {
   "cell_type": "code",
   "execution_count": 56,
   "metadata": {
    "id": "ocpgyQNxEni4"
   },
   "outputs": [],
   "source": [
    "df_test[['info', 'duration']] = df_test.apply(lambda r: load_file(r['path']), axis=1, result_type='expand')"
   ]
  },
  {
   "cell_type": "code",
   "execution_count": 57,
   "metadata": {
    "id": "TW6msXU1Eryg"
   },
   "outputs": [],
   "source": [
    "df_test = df_test[['info', 'duration']]"
   ]
  },
  {
   "cell_type": "code",
   "execution_count": 58,
   "metadata": {
    "id": "p-Dkq49FFGYb"
   },
   "outputs": [],
   "source": [
    "df_test['info'] = df_test.apply(lambda r: add_padding(r['info'], max_length, forTest=True), axis=1)"
   ]
  },
  {
   "cell_type": "code",
   "execution_count": 59,
   "metadata": {
    "id": "vGCxVQHnFX66"
   },
   "outputs": [],
   "source": [
    "df_test['mfcc'] = df_test.apply(lambda r: librosa.feature.mfcc(y=r['info'], sr=22050), axis=1)"
   ]
  },
  {
   "cell_type": "code",
   "execution_count": 60,
   "metadata": {
    "id": "OixIP4JFFdRC"
   },
   "outputs": [],
   "source": [
    "df_test.drop('duration', axis=1, inplace=True)"
   ]
  },
  {
   "cell_type": "code",
   "execution_count": 61,
   "metadata": {
    "id": "jmcdNP0dUaRV"
   },
   "outputs": [],
   "source": [
    "df_test['mfcc'] = df_test.apply(lambda r: r['mfcc'].flatten(), axis=1)"
   ]
  },
  {
   "cell_type": "code",
   "execution_count": 62,
   "metadata": {
    "colab": {
     "base_uri": "https://localhost:8080/"
    },
    "id": "TXU8ueV8jXDw",
    "outputId": "7b3a9527-3973-4bb9-a784-a7bfe88a23a8"
   },
   "outputs": [
    {
     "data": {
      "text/plain": [
       "(2600,)"
      ]
     },
     "execution_count": 62,
     "metadata": {},
     "output_type": "execute_result"
    }
   ],
   "source": [
    "df_test.iloc[0]['mfcc'].shape"
   ]
  },
  {
   "cell_type": "code",
   "execution_count": 63,
   "metadata": {
    "id": "u7oGS_tkUr9i"
   },
   "outputs": [],
   "source": [
    "col_names = [f'mfcc{i}' for i in range(2600)]\n",
    "df_new_features = pd.DataFrame(df_test['mfcc'].tolist(), index=df_test.index, columns=col_names)\n",
    "df_test = pd.concat((df_test, df_new_features), axis=1)"
   ]
  },
  {
   "cell_type": "code",
   "execution_count": 64,
   "metadata": {
    "id": "t6Fkq9hnF9U6"
   },
   "outputs": [],
   "source": [
    "df_test.drop(['info', 'mfcc'], axis=1, inplace=True)"
   ]
  },
  {
   "cell_type": "code",
   "execution_count": 65,
   "metadata": {
    "id": "1yrE_BXjGjM6"
   },
   "outputs": [],
   "source": [
    "X_test = pca_scaler.transform(df_test)"
   ]
  },
  {
   "cell_type": "code",
   "execution_count": 66,
   "metadata": {
    "id": "qzqEuGppGqlw"
   },
   "outputs": [],
   "source": [
    "X_test = scaler.transform(X_test)"
   ]
  },
  {
   "cell_type": "code",
   "execution_count": 136,
   "metadata": {
    "id": "yIJ4LEcojkbR"
   },
   "outputs": [],
   "source": [
    "y_test = final_svc.predict(X_test)"
   ]
  },
  {
   "cell_type": "code",
   "execution_count": 137,
   "metadata": {
    "id": "qcaP1_F5HFyT"
   },
   "outputs": [],
   "source": [
    "test_index = [i for i in range(len(y_test))]\n",
    "submit = pd.DataFrame(y_test, index=test_index, columns=['Predicted'])"
   ]
  },
  {
   "cell_type": "code",
   "execution_count": 138,
   "metadata": {
    "id": "4oRcrebOItDa"
   },
   "outputs": [],
   "source": [
    "submit.to_csv('submit.csv')"
   ]
  }
 ],
 "metadata": {
  "colab": {
   "provenance": []
  },
  "kernelspec": {
   "display_name": "Python 3 (ipykernel)",
   "language": "python",
   "name": "python3"
  },
  "language_info": {
   "codemirror_mode": {
    "name": "ipython",
    "version": 3
   },
   "file_extension": ".py",
   "mimetype": "text/x-python",
   "name": "python",
   "nbconvert_exporter": "python",
   "pygments_lexer": "ipython3",
   "version": "3.11.1"
  }
 },
 "nbformat": 4,
 "nbformat_minor": 4
}
