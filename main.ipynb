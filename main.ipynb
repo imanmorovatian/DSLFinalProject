{
 "cells": [
  {
   "cell_type": "code",
   "execution_count": 54,
   "metadata": {
    "id": "sG-5qD5ylZYS"
   },
   "outputs": [],
   "source": [
    "import pandas as pd\n",
    "import numpy as np\n",
    "import librosa\n",
    "from sklearn.model_selection import train_test_split, GridSearchCV\n",
    "from sklearn.preprocessing import StandardScaler\n",
    "from sklearn.decomposition import PCA\n",
    "from sklearn.svm import SVC\n",
    "from sklearn.metrics import accuracy_score\n",
    "import matplotlib.pyplot as plt"
   ]
  },
  {
   "cell_type": "markdown",
   "metadata": {
    "id": "jQ8Q_T3em0gB"
   },
   "source": [
    "# Loading Development Dataset"
   ]
  },
  {
   "cell_type": "code",
   "execution_count": 8,
   "metadata": {
    "id": "eS-w7WFymfoX"
   },
   "outputs": [],
   "source": [
    "df_dev = pd.read_csv('development.csv', index_col=0)"
   ]
  },
  {
   "cell_type": "code",
   "execution_count": 9,
   "metadata": {
    "colab": {
     "base_uri": "https://localhost:8080/",
     "height": 238
    },
    "id": "WISa8xhKODNJ",
    "outputId": "e471174c-793b-46d7-d7cf-85d04d709572"
   },
   "outputs": [
    {
     "data": {
      "text/html": [
       "\n",
       "  <div id=\"df-ac2068a9-3557-4368-b5a7-7c255e24364c\">\n",
       "    <div class=\"colab-df-container\">\n",
       "      <div>\n",
       "<style scoped>\n",
       "    .dataframe tbody tr th:only-of-type {\n",
       "        vertical-align: middle;\n",
       "    }\n",
       "\n",
       "    .dataframe tbody tr th {\n",
       "        vertical-align: top;\n",
       "    }\n",
       "\n",
       "    .dataframe thead th {\n",
       "        text-align: right;\n",
       "    }\n",
       "</style>\n",
       "<table border=\"1\" class=\"dataframe\">\n",
       "  <thead>\n",
       "    <tr style=\"text-align: right;\">\n",
       "      <th></th>\n",
       "      <th>path</th>\n",
       "      <th>speakerId</th>\n",
       "      <th>action</th>\n",
       "      <th>object</th>\n",
       "      <th>Self-reported fluency level</th>\n",
       "      <th>First Language spoken</th>\n",
       "      <th>Current language used for work/school</th>\n",
       "      <th>gender</th>\n",
       "      <th>ageRange</th>\n",
       "    </tr>\n",
       "    <tr>\n",
       "      <th>Id</th>\n",
       "      <th></th>\n",
       "      <th></th>\n",
       "      <th></th>\n",
       "      <th></th>\n",
       "      <th></th>\n",
       "      <th></th>\n",
       "      <th></th>\n",
       "      <th></th>\n",
       "      <th></th>\n",
       "    </tr>\n",
       "  </thead>\n",
       "  <tbody>\n",
       "    <tr>\n",
       "      <th>0</th>\n",
       "      <td>dsl_data/audio/speakers/2BqVo8kVB2Skwgyb/0a312...</td>\n",
       "      <td>2BqVo8kVB2Skwgyb</td>\n",
       "      <td>change language</td>\n",
       "      <td>none</td>\n",
       "      <td>advanced</td>\n",
       "      <td>English (United States)</td>\n",
       "      <td>English (United States)</td>\n",
       "      <td>female</td>\n",
       "      <td>22-40</td>\n",
       "    </tr>\n",
       "    <tr>\n",
       "      <th>1</th>\n",
       "      <td>dsl_data/audio/speakers/2BqVo8kVB2Skwgyb/0ee42...</td>\n",
       "      <td>2BqVo8kVB2Skwgyb</td>\n",
       "      <td>activate</td>\n",
       "      <td>music</td>\n",
       "      <td>advanced</td>\n",
       "      <td>English (United States)</td>\n",
       "      <td>English (United States)</td>\n",
       "      <td>female</td>\n",
       "      <td>22-40</td>\n",
       "    </tr>\n",
       "    <tr>\n",
       "      <th>2</th>\n",
       "      <td>dsl_data/audio/speakers/2BqVo8kVB2Skwgyb/1d9f3...</td>\n",
       "      <td>2BqVo8kVB2Skwgyb</td>\n",
       "      <td>deactivate</td>\n",
       "      <td>lights</td>\n",
       "      <td>advanced</td>\n",
       "      <td>English (United States)</td>\n",
       "      <td>English (United States)</td>\n",
       "      <td>female</td>\n",
       "      <td>22-40</td>\n",
       "    </tr>\n",
       "    <tr>\n",
       "      <th>3</th>\n",
       "      <td>dsl_data/audio/speakers/2BqVo8kVB2Skwgyb/269fc...</td>\n",
       "      <td>2BqVo8kVB2Skwgyb</td>\n",
       "      <td>increase</td>\n",
       "      <td>volume</td>\n",
       "      <td>advanced</td>\n",
       "      <td>English (United States)</td>\n",
       "      <td>English (United States)</td>\n",
       "      <td>female</td>\n",
       "      <td>22-40</td>\n",
       "    </tr>\n",
       "    <tr>\n",
       "      <th>4</th>\n",
       "      <td>dsl_data/audio/speakers/2BqVo8kVB2Skwgyb/5bbda...</td>\n",
       "      <td>2BqVo8kVB2Skwgyb</td>\n",
       "      <td>increase</td>\n",
       "      <td>volume</td>\n",
       "      <td>advanced</td>\n",
       "      <td>English (United States)</td>\n",
       "      <td>English (United States)</td>\n",
       "      <td>female</td>\n",
       "      <td>22-40</td>\n",
       "    </tr>\n",
       "  </tbody>\n",
       "</table>\n",
       "</div>\n",
       "      <button class=\"colab-df-convert\" onclick=\"convertToInteractive('df-ac2068a9-3557-4368-b5a7-7c255e24364c')\"\n",
       "              title=\"Convert this dataframe to an interactive table.\"\n",
       "              style=\"display:none;\">\n",
       "        \n",
       "  <svg xmlns=\"http://www.w3.org/2000/svg\" height=\"24px\"viewBox=\"0 0 24 24\"\n",
       "       width=\"24px\">\n",
       "    <path d=\"M0 0h24v24H0V0z\" fill=\"none\"/>\n",
       "    <path d=\"M18.56 5.44l.94 2.06.94-2.06 2.06-.94-2.06-.94-.94-2.06-.94 2.06-2.06.94zm-11 1L8.5 8.5l.94-2.06 2.06-.94-2.06-.94L8.5 2.5l-.94 2.06-2.06.94zm10 10l.94 2.06.94-2.06 2.06-.94-2.06-.94-.94-2.06-.94 2.06-2.06.94z\"/><path d=\"M17.41 7.96l-1.37-1.37c-.4-.4-.92-.59-1.43-.59-.52 0-1.04.2-1.43.59L10.3 9.45l-7.72 7.72c-.78.78-.78 2.05 0 2.83L4 21.41c.39.39.9.59 1.41.59.51 0 1.02-.2 1.41-.59l7.78-7.78 2.81-2.81c.8-.78.8-2.07 0-2.86zM5.41 20L4 18.59l7.72-7.72 1.47 1.35L5.41 20z\"/>\n",
       "  </svg>\n",
       "      </button>\n",
       "      \n",
       "  <style>\n",
       "    .colab-df-container {\n",
       "      display:flex;\n",
       "      flex-wrap:wrap;\n",
       "      gap: 12px;\n",
       "    }\n",
       "\n",
       "    .colab-df-convert {\n",
       "      background-color: #E8F0FE;\n",
       "      border: none;\n",
       "      border-radius: 50%;\n",
       "      cursor: pointer;\n",
       "      display: none;\n",
       "      fill: #1967D2;\n",
       "      height: 32px;\n",
       "      padding: 0 0 0 0;\n",
       "      width: 32px;\n",
       "    }\n",
       "\n",
       "    .colab-df-convert:hover {\n",
       "      background-color: #E2EBFA;\n",
       "      box-shadow: 0px 1px 2px rgba(60, 64, 67, 0.3), 0px 1px 3px 1px rgba(60, 64, 67, 0.15);\n",
       "      fill: #174EA6;\n",
       "    }\n",
       "\n",
       "    [theme=dark] .colab-df-convert {\n",
       "      background-color: #3B4455;\n",
       "      fill: #D2E3FC;\n",
       "    }\n",
       "\n",
       "    [theme=dark] .colab-df-convert:hover {\n",
       "      background-color: #434B5C;\n",
       "      box-shadow: 0px 1px 3px 1px rgba(0, 0, 0, 0.15);\n",
       "      filter: drop-shadow(0px 1px 2px rgba(0, 0, 0, 0.3));\n",
       "      fill: #FFFFFF;\n",
       "    }\n",
       "  </style>\n",
       "\n",
       "      <script>\n",
       "        const buttonEl =\n",
       "          document.querySelector('#df-ac2068a9-3557-4368-b5a7-7c255e24364c button.colab-df-convert');\n",
       "        buttonEl.style.display =\n",
       "          google.colab.kernel.accessAllowed ? 'block' : 'none';\n",
       "\n",
       "        async function convertToInteractive(key) {\n",
       "          const element = document.querySelector('#df-ac2068a9-3557-4368-b5a7-7c255e24364c');\n",
       "          const dataTable =\n",
       "            await google.colab.kernel.invokeFunction('convertToInteractive',\n",
       "                                                     [key], {});\n",
       "          if (!dataTable) return;\n",
       "\n",
       "          const docLinkHtml = 'Like what you see? Visit the ' +\n",
       "            '<a target=\"_blank\" href=https://colab.research.google.com/notebooks/data_table.ipynb>data table notebook</a>'\n",
       "            + ' to learn more about interactive tables.';\n",
       "          element.innerHTML = '';\n",
       "          dataTable['output_type'] = 'display_data';\n",
       "          await google.colab.output.renderOutput(dataTable, element);\n",
       "          const docLink = document.createElement('div');\n",
       "          docLink.innerHTML = docLinkHtml;\n",
       "          element.appendChild(docLink);\n",
       "        }\n",
       "      </script>\n",
       "    </div>\n",
       "  </div>\n",
       "  "
      ],
      "text/plain": [
       "                                                 path         speakerId  \\\n",
       "Id                                                                        \n",
       "0   dsl_data/audio/speakers/2BqVo8kVB2Skwgyb/0a312...  2BqVo8kVB2Skwgyb   \n",
       "1   dsl_data/audio/speakers/2BqVo8kVB2Skwgyb/0ee42...  2BqVo8kVB2Skwgyb   \n",
       "2   dsl_data/audio/speakers/2BqVo8kVB2Skwgyb/1d9f3...  2BqVo8kVB2Skwgyb   \n",
       "3   dsl_data/audio/speakers/2BqVo8kVB2Skwgyb/269fc...  2BqVo8kVB2Skwgyb   \n",
       "4   dsl_data/audio/speakers/2BqVo8kVB2Skwgyb/5bbda...  2BqVo8kVB2Skwgyb   \n",
       "\n",
       "             action  object Self-reported fluency level   \\\n",
       "Id                                                         \n",
       "0   change language    none                     advanced   \n",
       "1          activate   music                     advanced   \n",
       "2        deactivate  lights                     advanced   \n",
       "3          increase  volume                     advanced   \n",
       "4          increase  volume                     advanced   \n",
       "\n",
       "      First Language spoken Current language used for work/school  gender  \\\n",
       "Id                                                                          \n",
       "0   English (United States)               English (United States)  female   \n",
       "1   English (United States)               English (United States)  female   \n",
       "2   English (United States)               English (United States)  female   \n",
       "3   English (United States)               English (United States)  female   \n",
       "4   English (United States)               English (United States)  female   \n",
       "\n",
       "   ageRange  \n",
       "Id           \n",
       "0     22-40  \n",
       "1     22-40  \n",
       "2     22-40  \n",
       "3     22-40  \n",
       "4     22-40  "
      ]
     },
     "execution_count": 9,
     "metadata": {},
     "output_type": "execute_result"
    }
   ],
   "source": [
    "df_dev.head()"
   ]
  },
  {
   "cell_type": "markdown",
   "metadata": {
    "id": "5TkVRksOnHJH"
   },
   "source": [
    "# Preprocess"
   ]
  },
  {
   "cell_type": "code",
   "execution_count": 10,
   "metadata": {
    "id": "CZsCe_xlL-bh"
   },
   "outputs": [],
   "source": [
    "df_dev['class'] = df_dev['action'] + ' ' + df_dev['object']"
   ]
  },
  {
   "cell_type": "code",
   "execution_count": 11,
   "metadata": {
    "id": "kWlFl5aziZ3H"
   },
   "outputs": [],
   "source": [
    "df_dev.drop(['speakerId', 'Self-reported fluency level ', 'First Language spoken',\n",
    "               'Current language used for work/school', 'gender',\n",
    "               'ageRange', 'action', 'object'], axis=1, inplace=True)"
   ]
  },
  {
   "cell_type": "code",
   "execution_count": 12,
   "metadata": {
    "id": "g1PmCF2kmuU3"
   },
   "outputs": [],
   "source": [
    "def load_audio_file(path):\n",
    "\n",
    "    y, sr = librosa.load(path)\n",
    "    y, _ = librosa.effects.trim(y=y, top_db=10, hop_length=10)\n",
    "    duration = librosa.get_duration(y=y, sr=sr)\n",
    "        \n",
    "    return y, sr, duration"
   ]
  },
  {
   "cell_type": "code",
   "execution_count": 13,
   "metadata": {
    "id": "KY0lsLXDN8nc"
   },
   "outputs": [],
   "source": [
    "df_dev[['info', 'sr', 'duration']] = df_dev.apply(lambda r: load_audio_file(r['path']), axis=1, result_type='expand')"
   ]
  },
  {
   "cell_type": "code",
   "execution_count": 14,
   "metadata": {
    "id": "4BXG_Up9qZVv"
   },
   "outputs": [],
   "source": [
    "df_dev.drop('path', axis=1, inplace=True)"
   ]
  },
  {
   "cell_type": "code",
   "execution_count": 15,
   "metadata": {
    "colab": {
     "base_uri": "https://localhost:8080/"
    },
    "id": "J8rYexGGrUmL",
    "outputId": "fc359d52-a49d-497c-d71c-974bb4ad9b29"
   },
   "outputs": [
    {
     "data": {
      "text/plain": [
       "array([22050])"
      ]
     },
     "execution_count": 15,
     "metadata": {},
     "output_type": "execute_result"
    }
   ],
   "source": [
    "df_dev['sr'].unique()"
   ]
  },
  {
   "cell_type": "code",
   "execution_count": 16,
   "metadata": {
    "id": "Nr3XXDMgrX8I"
   },
   "outputs": [],
   "source": [
    "df_dev.drop('sr', axis=1, inplace=True)"
   ]
  },
  {
   "cell_type": "code",
   "execution_count": 17,
   "metadata": {
    "id": "MLEepkcdlYfs"
   },
   "outputs": [],
   "source": [
    "def map_duration(duration):\n",
    "    \n",
    "  if 0 <= duration < 1:\n",
    "      return '0-1'\n",
    "  elif 1 <= duration < 2:\n",
    "      return '1-2'\n",
    "  elif 2 <= duration < 3:\n",
    "      return '2-3'\n",
    "  elif 3 <= duration < 4:\n",
    "      return '3-4'\n",
    "  elif 4 <= duration < 5:\n",
    "      return '4-5'\n",
    "  else:\n",
    "      return '>=5'"
   ]
  },
  {
   "cell_type": "code",
   "execution_count": 18,
   "metadata": {
    "id": "_UCRto77lTEA"
   },
   "outputs": [],
   "source": [
    "df_dev['duration_interval'] = df_dev.apply(lambda r: map_duration(r['duration']), axis=1)"
   ]
  },
  {
   "cell_type": "code",
   "execution_count": 19,
   "metadata": {
    "colab": {
     "base_uri": "https://localhost:8080/"
    },
    "id": "OvysOFkQlmi4",
    "outputId": "1abf3202-831b-401f-bb42-444b7ab2fb19"
   },
   "outputs": [
    {
     "data": {
      "text/plain": [
       "0-1    7181\n",
       "1-2    2439\n",
       "2-3     207\n",
       "3-4      25\n",
       ">=5       2\n",
       "Name: duration_interval, dtype: int64"
      ]
     },
     "execution_count": 19,
     "metadata": {},
     "output_type": "execute_result"
    }
   ],
   "source": [
    "df_dev['duration_interval'].value_counts()"
   ]
  },
  {
   "cell_type": "code",
   "execution_count": null,
   "metadata": {
    "id": "VRtii81jTB2G"
   },
   "outputs": [],
   "source": [
    "# Classes are unbalanced"
   ]
  },
  {
   "cell_type": "code",
   "execution_count": 20,
   "metadata": {
    "id": "_jCuCezdlt5O"
   },
   "outputs": [],
   "source": [
    "df_dev.drop('duration_interval', axis=1, inplace=True)"
   ]
  },
  {
   "cell_type": "code",
   "execution_count": 21,
   "metadata": {
    "colab": {
     "base_uri": "https://localhost:8080/"
    },
    "id": "wOOGHurQlqiR",
    "outputId": "e64bab01-58a3-4b2e-91a0-117ecb30ba0c"
   },
   "outputs": [
    {
     "name": "stdout",
     "output_type": "stream",
     "text": [
      "Mean of duration ->  0.8702567094086129\n",
      "Standard Deviation of duration ->  0.41265092476967624\n",
      "Max of duration ->  6.834920634920635\n",
      "Min of duration ->  0.10158730158730159\n"
     ]
    }
   ],
   "source": [
    "print('Mean of duration -> ', df_dev['duration'].mean())\n",
    "print('Standard Deviation of duration -> ', df_dev['duration'].std())\n",
    "print('Max of duration -> ', df_dev['duration'].max())\n",
    "print('Min of duration -> ', df_dev['duration'].min())"
   ]
  },
  {
   "cell_type": "markdown",
   "metadata": {
    "id": "NWBGRYreUujj"
   },
   "source": [
    "## Remove Outliers"
   ]
  },
  {
   "cell_type": "code",
   "execution_count": 22,
   "metadata": {
    "colab": {
     "base_uri": "https://localhost:8080/"
    },
    "id": "rhiUw99_l-sK",
    "outputId": "37d4db9b-fb10-4c03-9597-c563794a833d"
   },
   "outputs": [
    {
     "name": "stdout",
     "output_type": "stream",
     "text": [
      "Old Shape of data frame:  (9854, 3)\n",
      "New Shape of data frame:  (9852, 3)\n"
     ]
    }
   ],
   "source": [
    "print(\"Old Shape of data frame: \", df_dev.shape)\n",
    "upper = np.where(df_dev['duration'] > 4) \n",
    "df_dev.drop(upper[0], inplace = True)\n",
    "print(\"New Shape of data frame: \", df_dev.shape)"
   ]
  },
  {
   "cell_type": "code",
   "execution_count": 23,
   "metadata": {
    "id": "JSmKqPuGlhGr"
   },
   "outputs": [],
   "source": [
    "df_dev.drop('duration', axis=1, inplace=True)"
   ]
  },
  {
   "cell_type": "markdown",
   "metadata": {
    "id": "Scgrd-0IU5XO"
   },
   "source": [
    "## Add Padding"
   ]
  },
  {
   "cell_type": "code",
   "execution_count": 24,
   "metadata": {
    "id": "1S2Az-aGmQxH"
   },
   "outputs": [],
   "source": [
    "def add_padding(info, upper_bound, isTrainData):\n",
    "    \n",
    "  if isTrainData:\n",
    "\n",
    "    pad = np.zeros(upper_bound - len(info), dtype=np.float32)\n",
    "    info = np.concatenate([info, pad], 0)\n",
    "      \n",
    "  else:\n",
    "    \n",
    "    if len(info) > upper_bound: # crop the audio\n",
    "      info = info[:upper_bound]\n",
    "    else: # pad the audio\n",
    "      pad = np.zeros(upper_bound - len(info), dtype=np.float32)\n",
    "      info = np.concatenate([info, pad],0)\n",
    "    \n",
    "  return info"
   ]
  },
  {
   "cell_type": "code",
   "execution_count": 25,
   "metadata": {
    "id": "58VK1Cr9mkMR"
   },
   "outputs": [],
   "source": [
    "info_length = [ len(info) for info in df_dev['info'] ]\n",
    "max_length = max(info_length)"
   ]
  },
  {
   "cell_type": "code",
   "execution_count": 26,
   "metadata": {
    "id": "KRVCiBDYmWlD"
   },
   "outputs": [],
   "source": [
    "df_dev['info'] = df_dev.apply(lambda r: add_padding(r['info'], max_length, True), axis=1)"
   ]
  },
  {
   "cell_type": "markdown",
   "metadata": {
    "id": "JowF-QQtVBeS"
   },
   "source": [
    "## Compute MFCC"
   ]
  },
  {
   "cell_type": "code",
   "execution_count": 27,
   "metadata": {
    "id": "zEz3Ggydm0GG"
   },
   "outputs": [],
   "source": [
    "df_dev['mfcc'] = df_dev.apply(lambda r: librosa.feature.mfcc(y=r['info'], sr=22050), axis=1)"
   ]
  },
  {
   "cell_type": "code",
   "execution_count": 28,
   "metadata": {
    "id": "r6vwJ19VnuGI"
   },
   "outputs": [],
   "source": [
    "df_dev.drop('info', axis=1, inplace=True)"
   ]
  },
  {
   "cell_type": "code",
   "execution_count": 29,
   "metadata": {
    "id": "QobbfOd4n3Lf"
   },
   "outputs": [],
   "source": [
    "df_dev['mfcc'] = df_dev.apply(lambda r: r['mfcc'].flatten(), axis=1)"
   ]
  },
  {
   "cell_type": "code",
   "execution_count": 30,
   "metadata": {
    "id": "tKT7YMX-n-JT"
   },
   "outputs": [],
   "source": [
    "col_names = [f'mfcc{i}' for i in range(len(df_dev.iloc[0]['mfcc']))]\n",
    "df_new_features = pd.DataFrame(df_dev['mfcc'].tolist(), index=df_dev.index, columns=col_names)\n",
    "df_dev = pd.concat((df_dev, df_new_features), axis=1)"
   ]
  },
  {
   "cell_type": "code",
   "execution_count": 31,
   "metadata": {
    "id": "kyMgZcwarwWY"
   },
   "outputs": [],
   "source": [
    "df_dev.drop('mfcc', axis=1, inplace=True)"
   ]
  },
  {
   "cell_type": "markdown",
   "metadata": {
    "id": "jgnDkkjg9skX"
   },
   "source": [
    "## Split Data"
   ]
  },
  {
   "cell_type": "code",
   "execution_count": 66,
   "metadata": {
    "id": "yPDtCBJ29xih"
   },
   "outputs": [],
   "source": [
    "y = df_dev['class']\n",
    "X = df_dev.drop(['class'], axis=1)"
   ]
  },
  {
   "cell_type": "code",
   "execution_count": 77,
   "metadata": {
    "id": "1CvaHMlR-Bqt"
   },
   "outputs": [],
   "source": [
    "X_train_val, X_test, y_train_val, y_test = train_test_split(\n",
    "    X, y, test_size=0.2, shuffle=True, stratify=y\n",
    "    )"
   ]
  },
  {
   "cell_type": "code",
   "execution_count": 78,
   "metadata": {
    "id": "7fJme07N-7Hw"
   },
   "outputs": [],
   "source": [
    "X_train, X_val, y_train, y_val = train_test_split(\n",
    "    X_train_val, y_train_val, test_size=0.2, shuffle=True, stratify=y_train_val\n",
    ")"
   ]
  },
  {
   "cell_type": "code",
   "execution_count": 79,
   "metadata": {
    "colab": {
     "base_uri": "https://localhost:8080/"
    },
    "id": "fT4zOQvp_Tmw",
    "outputId": "358c1980-8acd-4213-8998-bd33250bad77"
   },
   "outputs": [
    {
     "data": {
      "text/plain": [
       "(6304, 1577, 1971)"
      ]
     },
     "execution_count": 79,
     "metadata": {},
     "output_type": "execute_result"
    }
   ],
   "source": [
    "len(X_train), len(X_val), len(X_test)"
   ]
  },
  {
   "cell_type": "markdown",
   "metadata": {
    "id": "9A_0fs8ui_Q3"
   },
   "source": [
    "## Apply PCA"
   ]
  },
  {
   "cell_type": "code",
   "execution_count": 81,
   "metadata": {
    "id": "VhSbRZiRW8WK"
   },
   "outputs": [],
   "source": [
    "standard_scaler = StandardScaler().fit(X_train)\n",
    "X_train_scaled = standard_scaler.transform(X_train)\n",
    "X_val_scaled = standard_scaler.transform(X_val)"
   ]
  },
  {
   "cell_type": "code",
   "execution_count": 82,
   "metadata": {
    "id": "4N7MHwHQi-RI"
   },
   "outputs": [],
   "source": [
    "# finding the best number of components for PCA\n",
    "\n",
    "possible_n = (3000, 2000, 1000, 500, 200, 100, 50)\n",
    "accuracy = []\n",
    "\n",
    "for n in possible_n:\n",
    "  pca_scaler = PCA(n_components=n).fit(X_train_scaled)\n",
    "  X_train_pca = pca_scaler.transform(X_train_scaled)\n",
    "  svc = SVC().fit(X_train_pca, y_train)\n",
    "\n",
    "  X_val_pca = pca_scaler.transform(X_val_scaled)\n",
    "  y_pred = svc.predict(X_val_pca)\n",
    "  accuracy.append(accuracy_score(y_val, y_pred))"
   ]
  },
  {
   "cell_type": "code",
   "execution_count": 83,
   "metadata": {
    "colab": {
     "base_uri": "https://localhost:8080/",
     "height": 471
    },
    "id": "jjFm0Gf9ktLS",
    "outputId": "b2acd024-1b92-4a0d-ecb0-1fbdd5f153f7"
   },
   "outputs": [
    {
     "data": {
      "image/png": "[encoded data removed]",
      "text/plain": [
       "<Figure size 640x480 with 1 Axes>"
      ]
     },
     "metadata": {},
     "output_type": "display_data"
    }
   ],
   "source": [
    "ax = plt.subplot()\n",
    "ax.scatter(x=possible_n, y=accuracy)\n",
    "ax.plot(possible_n, accuracy)\n",
    "ax.set_xticks(possible_n)\n",
    "ax.invert_xaxis()\n",
    "ax.set_xlabel('Number of Components')\n",
    "plt.xticks(rotation = 90) \n",
    "ax.set_ylabel('Accuracy')\n",
    "plt.savefig('pca.pdf')"
   ]
  },
  {
   "cell_type": "markdown",
   "metadata": {
    "id": "b7TMci1Kkup5"
   },
   "source": [
    "# Model Building: Grid Search for SVM's Hyperparameters"
   ]
  },
  {
   "cell_type": "code",
   "execution_count": 84,
   "metadata": {
    "id": "9rZPD3wqw-k_"
   },
   "outputs": [],
   "source": [
    "standard_scaler = StandardScaler().fit(X_train_val)\n",
    "X_train_val_scaled = standard_scaler.transform(X_train_val)"
   ]
  },
  {
   "cell_type": "code",
   "execution_count": 85,
   "metadata": {
    "id": "bs6oU-ezDncw"
   },
   "outputs": [],
   "source": [
    "pca_scaler = PCA(n_components=500).fit(X_train_val_scaled)\n",
    "X_train_val_pca = pca_scaler.transform(X_train_val_scaled)"
   ]
  },
  {
   "cell_type": "code",
   "execution_count": 86,
   "metadata": {
    "id": "2ENBOad_4ZpS"
   },
   "outputs": [],
   "source": [
    "parameters = {\n",
    "    'kernel':('poly', 'rbf'),\n",
    "     'C':[1, 4, 10],\n",
    "     'degree':[1, 2, 3]\n",
    "     }\n",
    "\n",
    "svc = SVC()\n",
    "grid = GridSearchCV(estimator=svc, param_grid=parameters, scoring='accuracy', n_jobs=-1)\n",
    "grid = grid.fit(X_train_val_pca, y_train_val)"
   ]
  },
  {
   "cell_type": "code",
   "execution_count": 87,
   "metadata": {
    "colab": {
     "base_uri": "https://localhost:8080/"
    },
    "id": "XFhi4_xFznIF",
    "outputId": "22e7539f-1771-4875-e80a-1347ba650592"
   },
   "outputs": [
    {
     "data": {
      "text/plain": [
       "{'C': 10, 'degree': 1, 'kernel': 'rbf'}"
      ]
     },
     "execution_count": 87,
     "metadata": {},
     "output_type": "execute_result"
    }
   ],
   "source": [
    "grid.best_params_"
   ]
  },
  {
   "cell_type": "code",
   "execution_count": 89,
   "metadata": {
    "id": "0VK7fug-931T"
   },
   "outputs": [],
   "source": [
    "parameters = {\n",
    "    'kernel': ['rbf',],\n",
    "     'C':[10, 20, 40, 80],\n",
    "     'degree': [1,]\n",
    "     }\n",
    "\n",
    "svc = SVC()\n",
    "grid = GridSearchCV(estimator=svc, param_grid=parameters, scoring='accuracy', n_jobs=-1)\n",
    "grid = grid.fit(X_train_val_pca, y_train_val)"
   ]
  },
  {
   "cell_type": "code",
   "execution_count": 90,
   "metadata": {
    "colab": {
     "base_uri": "https://localhost:8080/"
    },
    "id": "vXsB25pB2evJ",
    "outputId": "26a22484-e675-4854-fe60-48d667208063"
   },
   "outputs": [
    {
     "data": {
      "text/plain": [
       "{'C': 40, 'degree': 1, 'kernel': 'rbf'}"
      ]
     },
     "execution_count": 90,
     "metadata": {},
     "output_type": "execute_result"
    }
   ],
   "source": [
    "grid.best_params_"
   ]
  },
  {
   "cell_type": "code",
   "execution_count": 91,
   "metadata": {
    "id": "49pc22DQN54x"
   },
   "outputs": [],
   "source": [
    "parameters = {\n",
    "    'kernel': ['rbf',],\n",
    "     'C':[40, 50, 60, 70],\n",
    "     'degree': [1,]\n",
    "     }\n",
    "\n",
    "svc = SVC()\n",
    "grid = GridSearchCV(estimator=svc, param_grid=parameters, scoring='accuracy', n_jobs=-1)\n",
    "grid = grid.fit(X_train_val_pca, y_train_val)"
   ]
  },
  {
   "cell_type": "code",
   "execution_count": 92,
   "metadata": {
    "colab": {
     "base_uri": "https://localhost:8080/"
    },
    "id": "7MMIRTjxOCD0",
    "outputId": "c2e60003-3699-4dbf-a92f-156ed5768053"
   },
   "outputs": [
    {
     "data": {
      "text/plain": [
       "{'C': 40, 'degree': 1, 'kernel': 'rbf'}"
      ]
     },
     "execution_count": 92,
     "metadata": {},
     "output_type": "execute_result"
    }
   ],
   "source": [
    "grid.best_params_"
   ]
  },
  {
   "cell_type": "markdown",
   "metadata": {
    "id": "bq5oN6GaQuXA"
   },
   "source": [
    "# Final Test"
   ]
  },
  {
   "cell_type": "code",
   "execution_count": 93,
   "metadata": {
    "id": "4u_Csh_5QwZm"
   },
   "outputs": [],
   "source": [
    "svc = SVC(kernel='rbf', C=40, gamma='scale', class_weight='balanced').fit(X_train_val_pca, y_train_val)"
   ]
  },
  {
   "cell_type": "code",
   "execution_count": 94,
   "metadata": {
    "id": "Gn7brR-TRiV9"
   },
   "outputs": [],
   "source": [
    "X_test_scaled = standard_scaler.transform(X_test)\n",
    "X_test_pca = pca_scaler.transform(X_test_scaled)"
   ]
  },
  {
   "cell_type": "code",
   "execution_count": 95,
   "metadata": {
    "colab": {
     "base_uri": "https://localhost:8080/"
    },
    "id": "2qsu88e7R7qh",
    "outputId": "3bc5c697-1f07-4991-b715-fb1977ef597d"
   },
   "outputs": [
    {
     "data": {
      "text/plain": [
       "0.7042110603754439"
      ]
     },
     "execution_count": 95,
     "metadata": {},
     "output_type": "execute_result"
    }
   ],
   "source": [
    "y_pred = svc.predict(X_test_pca)\n",
    "accuracy_score(y_test, y_pred)"
   ]
  }
 ],
 "metadata": {
  "colab": {
   "collapsed_sections": [
    "jQ8Q_T3em0gB",
    "5TkVRksOnHJH",
    "NWBGRYreUujj",
    "Scgrd-0IU5XO",
    "JowF-QQtVBeS",
    "jgnDkkjg9skX",
    "9A_0fs8ui_Q3",
    "b7TMci1Kkup5"
   ],
   "provenance": []
  },
  "kernelspec": {
   "display_name": "Python 3 (ipykernel)",
   "language": "python",
   "name": "python3"
  },
  "language_info": {
   "codemirror_mode": {
    "name": "ipython",
    "version": 3
   },
   "file_extension": ".py",
   "mimetype": "text/x-python",
   "name": "python",
   "nbconvert_exporter": "python",
   "pygments_lexer": "ipython3",
   "version": "3.10.6"
  }
 },
 "nbformat": 4,
 "nbformat_minor": 4
}
